{
 "cells": [
  {
   "cell_type": "code",
   "execution_count": 21,
   "metadata": {},
   "outputs": [],
   "source": [
    "import pandas as pd\n",
    "import numpy as np\n",
    "import os"
   ]
  },
  {
   "cell_type": "code",
   "execution_count": 22,
   "metadata": {},
   "outputs": [],
   "source": [
    "def SL(in_file, out_folder):\n",
    "    with open(in_file) as f:\n",
    "        # get setence as tokenized words\n",
    "        sentences = []\n",
    "        labels = []\n",
    "        with open(in_file, 'r') as f:\n",
    "            lines = f.readlines()\n",
    "            for line in lines:\n",
    "                line = line.rstrip()\n",
    "                # print(line)\n",
    "                tag = line.split(' ', 1)[0]\n",
    "                sent = line.split(' ', 1)[1]\n",
    "                sentences.append(sent)\n",
    "                labels.append(tag)\n",
    "        sentences_file = os.path.join(out_folder, 'sentences.txt')\n",
    "        labels_file = os.path.join(out_folder, 'labels.txt')\n",
    "        with open(sentences_file, 'a') as s_f, open(labels_file, 'a') as l_f:\n",
    "            for sentence, label in zip(sentences, labels):\n",
    "                s_f.write(sentence+'\\n')\n",
    "                l_f.write(label+'\\n')"
   ]
  },
  {
   "cell_type": "code",
   "execution_count": 23,
   "metadata": {},
   "outputs": [],
   "source": [
    "op_data = '../../../../../src/tc/data/sts_binary'\n",
    "if not os.path.exists(op_data):\n",
    "    os.makedirs(op_data)"
   ]
  },
  {
   "cell_type": "code",
   "execution_count": 24,
   "metadata": {},
   "outputs": [],
   "source": [
    "in_file = '../../../../../resources/data/TC/stsa.binary.dev'\n",
    "out_folder = os.path.join(op_data, 'val')\n",
    "if not os.path.exists(out_folder):\n",
    "    os.makedirs(out_folder)\n",
    "SL(in_file, out_folder)"
   ]
  },
  {
   "cell_type": "code",
   "execution_count": 25,
   "metadata": {},
   "outputs": [],
   "source": [
    "in_file = '../../../../../resources/data/TC/stsa.binary.train'\n",
    "out_folder = os.path.join(op_data, 'train')\n",
    "if not os.path.exists(out_folder):\n",
    "    os.makedirs(out_folder)\n",
    "SL(in_file, out_folder)"
   ]
  },
  {
   "cell_type": "code",
   "execution_count": 26,
   "metadata": {},
   "outputs": [],
   "source": [
    "in_file = '../../../../../resources/data/TC/stsa.binary.phrases.train'\n",
    "out_folder = os.path.join(op_data, 'train')\n",
    "if not os.path.exists(out_folder):\n",
    "    os.makedirs(out_folder)\n",
    "SL(in_file, out_folder)"
   ]
  },
  {
   "cell_type": "code",
   "execution_count": 27,
   "metadata": {},
   "outputs": [],
   "source": [
    "in_file = '../../../../../resources/data/TC/stsa.binary.test'\n",
    "out_folder = os.path.join(op_data, 'test')\n",
    "if not os.path.exists(out_folder):\n",
    "    os.makedirs(out_folder)\n",
    "SL(in_file, out_folder)"
   ]
  },
  {
   "cell_type": "code",
   "execution_count": null,
   "metadata": {},
   "outputs": [],
   "source": []
  }
 ],
 "metadata": {
  "kernelspec": {
   "display_name": "Python [default]",
   "language": "python",
   "name": "python3"
  },
  "language_info": {
   "codemirror_mode": {
    "name": "ipython",
    "version": 3
   },
   "file_extension": ".py",
   "mimetype": "text/x-python",
   "name": "python",
   "nbconvert_exporter": "python",
   "pygments_lexer": "ipython3",
   "version": "3.6.4"
  }
 },
 "nbformat": 4,
 "nbformat_minor": 2
}
