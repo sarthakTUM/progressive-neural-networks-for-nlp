{
 "cells": [
  {
   "cell_type": "code",
   "execution_count": 4,
   "metadata": {},
   "outputs": [],
   "source": [
    "import pandas as pd\n",
    "import numpy as np\n",
    "import matplotlib.pyplot as plt\n",
    "import io\n",
    "import pickle"
   ]
  },
  {
   "cell_type": "markdown",
   "metadata": {},
   "source": [
    "# functions"
   ]
  },
  {
   "cell_type": "code",
   "execution_count": 5,
   "metadata": {},
   "outputs": [],
   "source": [
    "def gen_conll(filepath, nlog=1000):\n",
    "    with io.open(filepath, encoding='utf-8') as fl:\n",
    "        sent_count = 0\n",
    "        for line in fl:\n",
    "            line = line.strip()\n",
    "            toks = line.split()\n",
    "            #print(toks)\n",
    "            # sentence break\n",
    "            if len(toks) < 1:\n",
    "                if len(sent) > 0:\n",
    "                    sent_count += 1\n",
    "                    if sent_count % nlog == 0:\n",
    "                        print('LOG: '+ str(sent_count), sent)\n",
    "                    doc = sent\n",
    "                    words = doc.split(' ')[:-1]\n",
    "                    word_labels = cats\n",
    "                    sent = \"\"\n",
    "                    cats = []\n",
    "                    yield doc, words, word_labels\n",
    "\n",
    "            # sentence start\n",
    "            elif toks[0] == u'-DOCSTART-':\n",
    "                sent = \"\"\n",
    "                cats = []\n",
    "            else:\n",
    "                sent += toks[0] + ' '\n",
    "                cats.append(toks[-1])"
   ]
  },
  {
   "cell_type": "code",
   "execution_count": 6,
   "metadata": {},
   "outputs": [],
   "source": [
    "gen = gen_conll('../../../resources/data/NER/wikigold/wikigold.conll.txt')"
   ]
  },
  {
   "cell_type": "code",
   "execution_count": 7,
   "metadata": {},
   "outputs": [
    {
     "name": "stdout",
     "output_type": "stream",
     "text": [
      "LOG: 1000 Carter also played in Blue Indigo with LeRoi Moore , Sal Soghoian , and George Melvin . \n"
     ]
    }
   ],
   "source": [
    "# converting data to BIO from I.\n",
    "total_sents = 0\n",
    "f = open('../../../resources/data/NER/wikigold/train_correct.pkl', 'wb')\n",
    "for data in gen:\n",
    "    total_sents += 1\n",
    "    doc, words, labels = data\n",
    "    if len(labels[0].split('-'))>1:\n",
    "        labels[0] = 'B-'+labels[0].split('-')[1]\n",
    "    for idx in range(1, len(labels)):\n",
    "        if labels[idx-1] == 'O' and labels[idx].split('-')[0] == 'I':\n",
    "            labels[idx] = 'B-'+ labels[idx].split('-')[1]\n",
    "    rec = []\n",
    "    for idx, word in enumerate(words):\n",
    "        rec.append((words[idx], labels[idx]))\n",
    "    pickle.dump(rec, f)\n",
    "f.close()"
   ]
  },
  {
   "cell_type": "code",
   "execution_count": 8,
   "metadata": {},
   "outputs": [
    {
     "name": "stdout",
     "output_type": "stream",
     "text": [
      "input finished\n"
     ]
    }
   ],
   "source": [
    "# writing the data to CoNLL format in text file.\n",
    "file_to_read = '../../../resources/data/NER/wikigold/train_correct.pkl'\n",
    "f = open(file_to_read, 'rb')\n",
    "with io.open('../../../resources/data/NER/wikigold/data_correct.txt', 'w', encoding='utf-8') as fl:\n",
    "    fl.write('-DOCSTART-\\n')\n",
    "    \n",
    "    try:\n",
    "        while True:\n",
    "            value = pickle.load(f)\n",
    "            #print(value)\n",
    "            fl.write('\\n')\n",
    "            for tup in value:\n",
    "                #print(tup[0], tup[1])\n",
    "                fl.write(tup[0] + ' ' + tup[1] + '\\n')\n",
    "    except EOFError as er:\n",
    "        print('input finished')\n",
    "f.close()"
   ]
  }
 ],
 "metadata": {
  "kernelspec": {
   "display_name": "Python [default]",
   "language": "python",
   "name": "python3"
  },
  "language_info": {
   "codemirror_mode": {
    "name": "ipython",
    "version": 3
   },
   "file_extension": ".py",
   "mimetype": "text/x-python",
   "name": "python",
   "nbconvert_exporter": "python",
   "pygments_lexer": "ipython3",
   "version": "3.6.4"
  }
 },
 "nbformat": 4,
 "nbformat_minor": 2
}
