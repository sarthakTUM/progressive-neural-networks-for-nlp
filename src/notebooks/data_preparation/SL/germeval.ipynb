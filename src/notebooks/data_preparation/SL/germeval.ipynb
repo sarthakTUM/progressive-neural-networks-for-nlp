{
 "cells": [
  {
   "cell_type": "code",
   "execution_count": 1,
   "metadata": {},
   "outputs": [],
   "source": [
    "import pandas as pd\n",
    "import numpy as np\n",
    "import sys\n",
    "import os\n",
    "import random, string"
   ]
  },
  {
   "cell_type": "code",
   "execution_count": 2,
   "metadata": {},
   "outputs": [],
   "source": [
    "sys.path.append('../../../../')"
   ]
  },
  {
   "cell_type": "code",
   "execution_count": 3,
   "metadata": {},
   "outputs": [],
   "source": [
    "def iob_iobes(tags):\n",
    "    \"\"\"\n",
    "    IOB -> IOBES\n",
    "    \"\"\"\n",
    "    new_tags = []\n",
    "    for i, tag in enumerate(tags):\n",
    "        if tag == 'O':\n",
    "            new_tags.append(tag)\n",
    "        elif tag.split('-')[0] == 'B':\n",
    "            if i + 1 != len(tags) and \\\n",
    "                    tags[i + 1].split('-')[0] == 'I':\n",
    "                new_tags.append(tag)\n",
    "            else:\n",
    "                new_tags.append(tag.replace('B-', 'S-'))\n",
    "        elif tag.split('-')[0] == 'I':\n",
    "            if i + 1 < len(tags) and \\\n",
    "                    tags[i + 1].split('-')[0] == 'I':\n",
    "                new_tags.append(tag)\n",
    "            else:\n",
    "                new_tags.append(tag.replace('I-', 'E-'))\n",
    "        else:\n",
    "            raise Exception('Invalid IOB format!')\n",
    "    return new_tags"
   ]
  },
  {
   "cell_type": "code",
   "execution_count": 14,
   "metadata": {},
   "outputs": [],
   "source": [
    "def SL(in_file, out_folder):\n",
    "    # get setence as tokenized words\n",
    "    sentences = []\n",
    "    labels = []\n",
    "    with open(in_file, 'r', encoding='utf-8') as f:\n",
    "        lines = f.readlines()\n",
    "        sentence = []\n",
    "        label = []\n",
    "        for line in lines:\n",
    "            line = line.rstrip()\n",
    "            # print(line)\n",
    "            if line.split('\\t')[0] == '#':\n",
    "                continue\n",
    "            elif not line:\n",
    "                # print('space: ', line)\n",
    "                if sentence:\n",
    "                    sentences.append(sentence)\n",
    "                if label:\n",
    "                    labels.append(label)\n",
    "                sentence = []\n",
    "                label = []\n",
    "            else:\n",
    "                sentence.append(line.split('\\t')[1])\n",
    "                label.append(line.split('\\t')[2])\n",
    "    for idx, label in enumerate(labels):\n",
    "        labels[idx] = iob_iobes(label)\n",
    "    sentences_file = os.path.join(out_folder, 'sentences.txt')\n",
    "    labels_file = os.path.join(out_folder, 'labels.txt')\n",
    "    id_file = os.path.join(out_folder, 'ID.txt')\n",
    "        \n",
    "    with open(sentences_file, 'a', encoding='utf-8') as s_f, open(labels_file, 'a', encoding='utf-8') as l_f, open(id_file, 'a') as i_f:\n",
    "        for sentence, label in zip(sentences, labels):\n",
    "            sentence_str = \" \".join(w for w in sentence)\n",
    "            label_str = \" \".join(l for l in label)\n",
    "            # generate a unique ID for each sentence\n",
    "            id_str = ''.join(random.choices(string.ascii_letters + string.digits, k=16))\n",
    "            \n",
    "            i_f.write(id_str+'\\n')\n",
    "            s_f.write(sentence_str+'\\n')\n",
    "            l_f.write(label_str+'\\n')"
   ]
  },
  {
   "cell_type": "code",
   "execution_count": 15,
   "metadata": {},
   "outputs": [],
   "source": [
    "op_data = '../../../../src/ner/data/germeval'\n",
    "if not os.path.exists(op_data):\n",
    "    os.makedirs(op_data)"
   ]
  },
  {
   "cell_type": "code",
   "execution_count": 16,
   "metadata": {},
   "outputs": [],
   "source": [
    "in_file = '../../../../resources/data/NER/germeval/train.tsv'\n",
    "out_folder = os.path.join(op_data, 'train')\n",
    "if not os.path.exists(out_folder):\n",
    "    os.makedirs(out_folder)\n",
    "SL(in_file, out_folder)"
   ]
  },
  {
   "cell_type": "code",
   "execution_count": 18,
   "metadata": {},
   "outputs": [],
   "source": [
    "in_file = '../../../../resources/data/NER/germeval/dev.tsv'\n",
    "out_folder = os.path.join(op_data, 'val')\n",
    "if not os.path.exists(out_folder):\n",
    "    os.makedirs(out_folder)\n",
    "SL(in_file, out_folder)"
   ]
  },
  {
   "cell_type": "code",
   "execution_count": 19,
   "metadata": {},
   "outputs": [],
   "source": [
    "in_file = '../../../../resources/data/NER/germeval/test.tsv'\n",
    "out_folder = os.path.join(op_data, 'test')\n",
    "if not os.path.exists(out_folder):\n",
    "    os.makedirs(out_folder)\n",
    "SL(in_file, out_folder)"
   ]
  }
 ],
 "metadata": {
  "kernelspec": {
   "display_name": "Python [default]",
   "language": "python",
   "name": "python3"
  },
  "language_info": {
   "codemirror_mode": {
    "name": "ipython",
    "version": 3
   },
   "file_extension": ".py",
   "mimetype": "text/x-python",
   "name": "python",
   "nbconvert_exporter": "python",
   "pygments_lexer": "ipython3",
   "version": "3.6.4"
  }
 },
 "nbformat": 4,
 "nbformat_minor": 2
}
