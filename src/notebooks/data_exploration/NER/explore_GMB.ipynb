{
 "cells": [
  {
   "cell_type": "code",
   "execution_count": 1,
   "metadata": {},
   "outputs": [],
   "source": [
    "import pandas as pd\n",
    "import numpy as np\n",
    "import matplotlib.pyplot as plt\n",
    "import os\n",
    "import io\n",
    "import sys"
   ]
  },
  {
   "cell_type": "code",
   "execution_count": 2,
   "metadata": {},
   "outputs": [],
   "source": [
    "from collections import Counter"
   ]
  },
  {
   "cell_type": "code",
   "execution_count": 6,
   "metadata": {},
   "outputs": [],
   "source": [
    "def read_conll(filepath):\n",
    "    all_toks = []\n",
    "    all_cats = []\n",
    "    sents = []\n",
    "    with io.open(filepath, encoding='ISO-8859-1') as ip:\n",
    "        sent = []\n",
    "        for line in ip:\n",
    "            if line == '-DOCSTART-\\n':\n",
    "                continue\n",
    "            if line == '\\n':\n",
    "                sents.append(sent)\n",
    "                sent = []\n",
    "            else:\n",
    "                line = line.strip()\n",
    "                parts = line.split(' ')\n",
    "                #print(parts)\n",
    "                token = parts[0]\n",
    "                if not len(parts)>1:\n",
    "                    print(line)\n",
    "                cat = line.split(' ')[1]\n",
    "                all_toks.append(token)\n",
    "                all_cats.append(cat)\n",
    "                sent.append((token, cat))\n",
    "    return sents, all_toks, all_cats\n",
    "\n",
    "def get_tags_ents(all_cats):\n",
    "    tags = []\n",
    "    ents = []\n",
    "    for cat in set(all_cats):\n",
    "        parts = cat.split('-')\n",
    "        tags.append(parts[0])\n",
    "        if len(parts) > 1:\n",
    "            ents.append(parts[1])\n",
    "        \n",
    "    return set(tags), set(ents)"
   ]
  },
  {
   "cell_type": "code",
   "execution_count": 7,
   "metadata": {},
   "outputs": [
    {
     "name": "stdout",
     "output_type": "stream",
     "text": [
      "processing train file...\n",
      "processing valid file...\n",
      "processing test file...\n"
     ]
    }
   ],
   "source": [
    "print('processing train file...')\n",
    "train_sents, train_all_toks, train_all_cats = read_conll('../../../resources/data/NER/GMB/train.txt')\n",
    "print('processing valid file...')\n",
    "valid_sents, valid_all_toks, valid_all_cats = read_conll('../../../resources/data/NER/GMB/valid.txt')\n",
    "print('processing test file...')\n",
    "test_sents, test_all_toks, test_all_cats = read_conll('../../../resources/data/NER/GMB/test.txt')"
   ]
  },
  {
   "cell_type": "code",
   "execution_count": 14,
   "metadata": {},
   "outputs": [
    {
     "name": "stdout",
     "output_type": "stream",
     "text": [
      "# training sentences:  47958\n",
      "# unique training tokens:  35178\n",
      "# training categories:  17\n",
      "training tags, entities:  {'B', 'I', 'O'} {'per', 'tim', 'art', 'nat', 'geo', 'gpe', 'eve', 'org'} 8\n",
      "training distribution\n",
      "Counter({'O': 887908, 'B-geo': 37644, 'B-tim': 20333, 'B-org': 20143, 'I-per': 17251, 'B-per': 16990, 'I-org': 16784, 'B-gpe': 15870, 'I-geo': 7414, 'I-tim': 6528, 'B-art': 402, 'B-eve': 308, 'I-art': 297, 'I-eve': 253, 'B-nat': 201, 'I-gpe': 198, 'I-nat': 51})\n",
      "\n",
      "\n"
     ]
    }
   ],
   "source": [
    "print('# training sentences: ', len(train_sents))\n",
    "print('# unique training tokens: ', len(set(train_all_toks)))\n",
    "print('# training categories: ', len(set(train_all_cats)))\n",
    "train_tags, train_ents = get_tags_ents(train_all_cats)\n",
    "print('training tags, entities: ', train_tags, train_ents, len(train_ents))\n",
    "print('training distribution')\n",
    "print(Counter(train_all_cats))\n",
    "print('\\n')"
   ]
  },
  {
   "cell_type": "code",
   "execution_count": 8,
   "metadata": {},
   "outputs": [
    {
     "name": "stdout",
     "output_type": "stream",
     "text": [
      "# validation sentences:  4795\n",
      "# unique validation tokens:  11982\n",
      "# validation categories:  17\n",
      "validation tags, entities:  {'O', 'B', 'I'} {'gpe', 'tim', 'nat', 'org', 'eve', 'per', 'geo', 'art'} 8\n",
      "validation distribution\n",
      "Counter({'O': 89054, 'B-geo': 3780, 'B-tim': 2083, 'B-org': 1932, 'I-per': 1745, 'B-per': 1676, 'I-org': 1644, 'B-gpe': 1641, 'I-geo': 806, 'I-tim': 672, 'B-art': 46, 'I-art': 40, 'B-nat': 31, 'B-eve': 29, 'I-eve': 15, 'I-gpe': 14, 'I-nat': 10})\n",
      "\n",
      "\n"
     ]
    }
   ],
   "source": [
    "print('# validation sentences: ', len(valid_sents))\n",
    "print('# unique validation tokens: ', len(set(valid_all_toks)))\n",
    "print('# validation categories: ', len(set(valid_all_cats)))\n",
    "valid_tags, valid_ents = get_tags_ents(valid_all_cats)\n",
    "print('validation tags, entities: ', valid_tags, valid_ents, len(valid_ents))\n",
    "print('validation distribution')\n",
    "print(Counter(valid_all_cats))\n",
    "print('\\n')"
   ]
  },
  {
   "cell_type": "code",
   "execution_count": 9,
   "metadata": {},
   "outputs": [
    {
     "name": "stdout",
     "output_type": "stream",
     "text": [
      "# testing sentences:  9591\n",
      "# unique testing tokens:  16872\n",
      "# testing categories:  17\n",
      "training tags, entities:  {'O', 'B', 'I'} {'gpe', 'tim', 'nat', 'org', 'eve', 'per', 'geo', 'art'} 8\n",
      "training distribution\n",
      "Counter({'O': 177390, 'B-geo': 7500, 'B-org': 4047, 'B-tim': 3984, 'I-per': 3495, 'I-org': 3486, 'B-per': 3459, 'B-gpe': 3200, 'I-geo': 1553, 'I-tim': 1230, 'B-art': 84, 'B-eve': 58, 'I-art': 57, 'I-eve': 48, 'B-nat': 45, 'I-gpe': 40, 'I-nat': 11})\n",
      "\n",
      "\n"
     ]
    }
   ],
   "source": [
    "print('# testing sentences: ', len(test_sents))\n",
    "print('# unique testing tokens: ', len(set(test_all_toks)))\n",
    "print('# testing categories: ', len(set(test_all_cats)))\n",
    "test_tags, test_ents = get_tags_ents(test_all_cats)\n",
    "print('training tags, entities: ', test_tags, test_ents, len(test_ents))\n",
    "print('training distribution')\n",
    "print(Counter(test_all_cats))\n",
    "print('\\n')"
   ]
  },
  {
   "cell_type": "code",
   "execution_count": 10,
   "metadata": {},
   "outputs": [],
   "source": [
    "data = pd.read_csv('../../../resources/data/NER/GMB/ner_dataset.csv', encoding='ISO-8859-1')"
   ]
  },
  {
   "cell_type": "code",
   "execution_count": 11,
   "metadata": {},
   "outputs": [
    {
     "data": {
      "text/html": [
       "<div>\n",
       "<style scoped>\n",
       "    .dataframe tbody tr th:only-of-type {\n",
       "        vertical-align: middle;\n",
       "    }\n",
       "\n",
       "    .dataframe tbody tr th {\n",
       "        vertical-align: top;\n",
       "    }\n",
       "\n",
       "    .dataframe thead th {\n",
       "        text-align: right;\n",
       "    }\n",
       "</style>\n",
       "<table border=\"1\" class=\"dataframe\">\n",
       "  <thead>\n",
       "    <tr style=\"text-align: right;\">\n",
       "      <th></th>\n",
       "      <th>Sentence #</th>\n",
       "      <th>Word</th>\n",
       "      <th>POS</th>\n",
       "      <th>Tag</th>\n",
       "    </tr>\n",
       "  </thead>\n",
       "  <tbody>\n",
       "    <tr>\n",
       "      <th>0</th>\n",
       "      <td>Sentence: 1</td>\n",
       "      <td>Thousands</td>\n",
       "      <td>NNS</td>\n",
       "      <td>O</td>\n",
       "    </tr>\n",
       "    <tr>\n",
       "      <th>1</th>\n",
       "      <td>NaN</td>\n",
       "      <td>of</td>\n",
       "      <td>IN</td>\n",
       "      <td>O</td>\n",
       "    </tr>\n",
       "    <tr>\n",
       "      <th>2</th>\n",
       "      <td>NaN</td>\n",
       "      <td>demonstrators</td>\n",
       "      <td>NNS</td>\n",
       "      <td>O</td>\n",
       "    </tr>\n",
       "    <tr>\n",
       "      <th>3</th>\n",
       "      <td>NaN</td>\n",
       "      <td>have</td>\n",
       "      <td>VBP</td>\n",
       "      <td>O</td>\n",
       "    </tr>\n",
       "    <tr>\n",
       "      <th>4</th>\n",
       "      <td>NaN</td>\n",
       "      <td>marched</td>\n",
       "      <td>VBN</td>\n",
       "      <td>O</td>\n",
       "    </tr>\n",
       "  </tbody>\n",
       "</table>\n",
       "</div>"
      ],
      "text/plain": [
       "    Sentence #           Word  POS Tag\n",
       "0  Sentence: 1      Thousands  NNS   O\n",
       "1          NaN             of   IN   O\n",
       "2          NaN  demonstrators  NNS   O\n",
       "3          NaN           have  VBP   O\n",
       "4          NaN        marched  VBN   O"
      ]
     },
     "execution_count": 11,
     "metadata": {},
     "output_type": "execute_result"
    }
   ],
   "source": [
    "data.head()"
   ]
  },
  {
   "cell_type": "code",
   "execution_count": 12,
   "metadata": {},
   "outputs": [
    {
     "data": {
      "text/plain": [
       "array(['O', 'B-geo', 'B-gpe', 'B-per', 'I-geo', 'B-org', 'I-org', 'B-tim',\n",
       "       'B-art', 'I-art', 'I-per', 'I-gpe', 'I-tim', 'B-nat', 'B-eve',\n",
       "       'I-eve', 'I-nat'], dtype=object)"
      ]
     },
     "execution_count": 12,
     "metadata": {},
     "output_type": "execute_result"
    }
   ],
   "source": [
    "data['Tag'].unique()"
   ]
  },
  {
   "cell_type": "code",
   "execution_count": 13,
   "metadata": {},
   "outputs": [
    {
     "data": {
      "text/plain": [
       "array(['Sentence: 1', nan, 'Sentence: 2', ..., 'Sentence: 47957',\n",
       "       'Sentence: 47958', 'Sentence: 47959'], dtype=object)"
      ]
     },
     "execution_count": 13,
     "metadata": {},
     "output_type": "execute_result"
    }
   ],
   "source": [
    "data['Sentence #'].unique()"
   ]
  }
 ],
 "metadata": {
  "kernelspec": {
   "display_name": "Python [default]",
   "language": "python",
   "name": "python3"
  },
  "language_info": {
   "codemirror_mode": {
    "name": "ipython",
    "version": 3
   },
   "file_extension": ".py",
   "mimetype": "text/x-python",
   "name": "python",
   "nbconvert_exporter": "python",
   "pygments_lexer": "ipython3",
   "version": "3.6.4"
  }
 },
 "nbformat": 4,
 "nbformat_minor": 2
}
