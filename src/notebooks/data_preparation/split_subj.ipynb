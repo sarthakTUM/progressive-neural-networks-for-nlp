{
 "cells": [
  {
   "cell_type": "code",
   "execution_count": 1,
   "metadata": {},
   "outputs": [],
   "source": [
    "import pandas as pd\n",
    "import numpy as np\n",
    "import os"
   ]
  },
  {
   "cell_type": "code",
   "execution_count": 2,
   "metadata": {},
   "outputs": [],
   "source": [
    "random_state = 42"
   ]
  },
  {
   "cell_type": "code",
   "execution_count": 3,
   "metadata": {},
   "outputs": [],
   "source": [
    "def dataframe(in_file):\n",
    "\n",
    "    sentences = []\n",
    "    labels = []\n",
    "    with open(in_file, 'r') as f:\n",
    "        lines = f.readlines()\n",
    "        for line in lines:\n",
    "            line = line.rstrip()\n",
    "            # print(line)\n",
    "            tag = line.split(' ', 1)[0]\n",
    "            sent = line.split(' ', 1)[1]\n",
    "            sentences.append(sent)\n",
    "            labels.append(tag)\n",
    "    return pd.DataFrame({\n",
    "        'sentence':sentences,\n",
    "        'label':labels\n",
    "    })\n",
    "        "
   ]
  },
  {
   "cell_type": "code",
   "execution_count": 4,
   "metadata": {},
   "outputs": [],
   "source": [
    "data_df = dataframe('../../../resources/data/TC/subj/subj.all')"
   ]
  },
  {
   "cell_type": "code",
   "execution_count": 5,
   "metadata": {},
   "outputs": [
    {
     "data": {
      "text/html": [
       "<div>\n",
       "<style scoped>\n",
       "    .dataframe tbody tr th:only-of-type {\n",
       "        vertical-align: middle;\n",
       "    }\n",
       "\n",
       "    .dataframe tbody tr th {\n",
       "        vertical-align: top;\n",
       "    }\n",
       "\n",
       "    .dataframe thead th {\n",
       "        text-align: right;\n",
       "    }\n",
       "</style>\n",
       "<table border=\"1\" class=\"dataframe\">\n",
       "  <thead>\n",
       "    <tr style=\"text-align: right;\">\n",
       "      <th></th>\n",
       "      <th>label</th>\n",
       "      <th>sentence</th>\n",
       "    </tr>\n",
       "  </thead>\n",
       "  <tbody>\n",
       "    <tr>\n",
       "      <th>0</th>\n",
       "      <td>0</td>\n",
       "      <td>smart and alert , thirteen conversations about...</td>\n",
       "    </tr>\n",
       "    <tr>\n",
       "      <th>1</th>\n",
       "      <td>0</td>\n",
       "      <td>color , musical bounce and warm seas lapping o...</td>\n",
       "    </tr>\n",
       "    <tr>\n",
       "      <th>2</th>\n",
       "      <td>0</td>\n",
       "      <td>it is not a mass-market entertainment but an u...</td>\n",
       "    </tr>\n",
       "    <tr>\n",
       "      <th>3</th>\n",
       "      <td>0</td>\n",
       "      <td>a light-hearted french film about the spiritua...</td>\n",
       "    </tr>\n",
       "    <tr>\n",
       "      <th>4</th>\n",
       "      <td>0</td>\n",
       "      <td>my wife is an actress has its moments in looki...</td>\n",
       "    </tr>\n",
       "  </tbody>\n",
       "</table>\n",
       "</div>"
      ],
      "text/plain": [
       "  label                                           sentence\n",
       "0     0  smart and alert , thirteen conversations about...\n",
       "1     0  color , musical bounce and warm seas lapping o...\n",
       "2     0  it is not a mass-market entertainment but an u...\n",
       "3     0  a light-hearted french film about the spiritua...\n",
       "4     0  my wife is an actress has its moments in looki..."
      ]
     },
     "execution_count": 5,
     "metadata": {},
     "output_type": "execute_result"
    }
   ],
   "source": [
    "data_df.head()"
   ]
  },
  {
   "cell_type": "code",
   "execution_count": 6,
   "metadata": {},
   "outputs": [
    {
     "data": {
      "text/plain": [
       "(10000, 2)"
      ]
     },
     "execution_count": 6,
     "metadata": {},
     "output_type": "execute_result"
    }
   ],
   "source": [
    "data_df.shape"
   ]
  },
  {
   "cell_type": "code",
   "execution_count": 7,
   "metadata": {},
   "outputs": [],
   "source": [
    "y = data_df.pop('label').to_frame()\n",
    "X = data_df"
   ]
  },
  {
   "cell_type": "code",
   "execution_count": 8,
   "metadata": {},
   "outputs": [],
   "source": [
    "from sklearn.model_selection import StratifiedKFold # import KFold\n",
    "from sklearn.model_selection import train_test_split\n",
    "skf = StratifiedKFold(n_splits=10, shuffle=True, random_state=random_state)"
   ]
  },
  {
   "cell_type": "code",
   "execution_count": 9,
   "metadata": {},
   "outputs": [
    {
     "data": {
      "text/plain": [
       "10"
      ]
     },
     "execution_count": 9,
     "metadata": {},
     "output_type": "execute_result"
    }
   ],
   "source": [
    "skf.get_n_splits(X, y)"
   ]
  },
  {
   "cell_type": "code",
   "execution_count": 10,
   "metadata": {},
   "outputs": [
    {
     "data": {
      "text/plain": [
       "StratifiedKFold(n_splits=10, random_state=42, shuffle=True)"
      ]
     },
     "execution_count": 10,
     "metadata": {},
     "output_type": "execute_result"
    }
   ],
   "source": [
    "skf"
   ]
  },
  {
   "cell_type": "code",
   "execution_count": 11,
   "metadata": {},
   "outputs": [],
   "source": [
    "data_dir = '../../../resources/data/TC/subj'"
   ]
  },
  {
   "cell_type": "code",
   "execution_count": 20,
   "metadata": {},
   "outputs": [
    {
     "name": "stdout",
     "output_type": "stream",
     "text": [
      "split_1\n",
      "X_train_dev: (9000, 1), y_train_dev: (9000, 1)\n",
      "X_test: (1000, 1), y_test: (1000, 1)\n",
      "train_df: (8100, 2), val_df: (900, 2), test_df: (1000, 2)\n",
      "saving data in: ../../../resources/data/TC/subj\\split_1\n",
      "split_2\n",
      "X_train_dev: (9000, 1), y_train_dev: (9000, 1)\n",
      "X_test: (1000, 1), y_test: (1000, 1)\n",
      "train_df: (8100, 2), val_df: (900, 2), test_df: (1000, 2)\n",
      "saving data in: ../../../resources/data/TC/subj\\split_2\n",
      "split_3\n",
      "X_train_dev: (9000, 1), y_train_dev: (9000, 1)\n",
      "X_test: (1000, 1), y_test: (1000, 1)\n",
      "train_df: (8100, 2), val_df: (900, 2), test_df: (1000, 2)\n",
      "saving data in: ../../../resources/data/TC/subj\\split_3\n",
      "split_4\n",
      "X_train_dev: (9000, 1), y_train_dev: (9000, 1)\n",
      "X_test: (1000, 1), y_test: (1000, 1)\n",
      "train_df: (8100, 2), val_df: (900, 2), test_df: (1000, 2)\n",
      "saving data in: ../../../resources/data/TC/subj\\split_4\n",
      "split_5\n",
      "X_train_dev: (9000, 1), y_train_dev: (9000, 1)\n",
      "X_test: (1000, 1), y_test: (1000, 1)\n",
      "train_df: (8100, 2), val_df: (900, 2), test_df: (1000, 2)\n",
      "saving data in: ../../../resources/data/TC/subj\\split_5\n",
      "split_6\n",
      "X_train_dev: (9000, 1), y_train_dev: (9000, 1)\n",
      "X_test: (1000, 1), y_test: (1000, 1)\n",
      "train_df: (8100, 2), val_df: (900, 2), test_df: (1000, 2)\n",
      "saving data in: ../../../resources/data/TC/subj\\split_6\n",
      "split_7\n",
      "X_train_dev: (9000, 1), y_train_dev: (9000, 1)\n",
      "X_test: (1000, 1), y_test: (1000, 1)\n",
      "train_df: (8100, 2), val_df: (900, 2), test_df: (1000, 2)\n",
      "saving data in: ../../../resources/data/TC/subj\\split_7\n",
      "split_8\n",
      "X_train_dev: (9000, 1), y_train_dev: (9000, 1)\n",
      "X_test: (1000, 1), y_test: (1000, 1)\n",
      "train_df: (8100, 2), val_df: (900, 2), test_df: (1000, 2)\n",
      "saving data in: ../../../resources/data/TC/subj\\split_8\n",
      "split_9\n",
      "X_train_dev: (9000, 1), y_train_dev: (9000, 1)\n",
      "X_test: (1000, 1), y_test: (1000, 1)\n",
      "train_df: (8100, 2), val_df: (900, 2), test_df: (1000, 2)\n",
      "saving data in: ../../../resources/data/TC/subj\\split_9\n",
      "split_10\n",
      "X_train_dev: (9000, 1), y_train_dev: (9000, 1)\n",
      "X_test: (1000, 1), y_test: (1000, 1)\n",
      "train_df: (8100, 2), val_df: (900, 2), test_df: (1000, 2)\n",
      "saving data in: ../../../resources/data/TC/subj\\split_10\n"
     ]
    }
   ],
   "source": [
    "split = 0\n",
    "for train_index, test_index in skf.split(X, y):\n",
    "    split += 1\n",
    "    print('split_{}'.format(split))\n",
    "    X_train_dev, y_train_dev = X.iloc[train_index], y.iloc[train_index]\n",
    "    assert len(X_train_dev) == len(y_train_dev)\n",
    "    print('X_train_dev: {}, y_train_dev: {}'.format(X_train_dev.shape, y_train_dev.shape))\n",
    "    X_test, y_test = X.iloc[test_index], y.iloc[test_index]\n",
    "    assert len(X_test) == len(y_test)\n",
    "    print('X_test: {}, y_test: {}'.format(X_test.shape,y_test.shape))\n",
    "    X_train, X_dev, y_train, y_dev = train_test_split(X_train_dev, y_train_dev, stratify=y_train_dev, test_size=0.1, random_state=random_state)\n",
    "    assert len(X_train) == len(y_train)\n",
    "    assert len(X_dev) == len(y_dev)\n",
    "    train_df = X_train.join(y_train)\n",
    "    val_df = X_dev.join(y_dev)\n",
    "    test_df = X_test.join(y_test)\n",
    "    print('train_df: {}, val_df: {}, test_df: {}'.format(train_df.shape, val_df.shape, test_df.shape))\n",
    "    split_dir = os.path.join(data_dir, 'split_'+str(split))\n",
    "    if not os.path.exists(split_dir):\n",
    "        os.makedirs(split_dir)\n",
    "    print('saving data in: {}'.format(split_dir))\n",
    "    train_df.to_csv(os.path.join(split_dir, 'train.csv'))\n",
    "    val_df.to_csv(os.path.join(split_dir, 'val.csv'))\n",
    "    test_df.to_csv(os.path.join(split_dir, 'test.csv'))"
   ]
  },
  {
   "cell_type": "code",
   "execution_count": 28,
   "metadata": {},
   "outputs": [],
   "source": [
    "\n",
    "y = data_df.pop('label').to_frame()\n",
    "X = data_df\n",
    "X_train, X_test, y_train, y_test = train_test_split(X, y, test_size=0.1, random_state=random_state)"
   ]
  },
  {
   "cell_type": "code",
   "execution_count": 30,
   "metadata": {},
   "outputs": [
    {
     "data": {
      "text/plain": [
       "1    1122\n",
       "3    1120\n",
       "0    1042\n",
       "5     797\n",
       "4     750\n",
       "2      75\n",
       "Name: label, dtype: int64"
      ]
     },
     "execution_count": 30,
     "metadata": {},
     "output_type": "execute_result"
    }
   ],
   "source": [
    "y_train['label'].value_counts()"
   ]
  },
  {
   "cell_type": "code",
   "execution_count": 31,
   "metadata": {},
   "outputs": [
    {
     "data": {
      "text/plain": [
       "1    128\n",
       "0    120\n",
       "3    103\n",
       "5     99\n",
       "4     85\n",
       "2     11\n",
       "Name: label, dtype: int64"
      ]
     },
     "execution_count": 31,
     "metadata": {},
     "output_type": "execute_result"
    }
   ],
   "source": [
    "y_dev['label'].value_counts()"
   ]
  },
  {
   "cell_type": "code",
   "execution_count": 36,
   "metadata": {},
   "outputs": [],
   "source": [
    "train_df = X_train.join(y_train)\n",
    "val_df = X_dev.join(y_dev)"
   ]
  },
  {
   "cell_type": "code",
   "execution_count": 39,
   "metadata": {},
   "outputs": [],
   "source": [
    "test_df = dataframe('../../../resources/data/TC/trec/TREC.test.all')"
   ]
  },
  {
   "cell_type": "code",
   "execution_count": 40,
   "metadata": {},
   "outputs": [
    {
     "name": "stdout",
     "output_type": "stream",
     "text": [
      "stats\n",
      "train_df: (4906, 2)\n",
      "dev_df: (546, 2)\n",
      "test_df: (500, 2)\n"
     ]
    }
   ],
   "source": [
    "print('stats')\n",
    "print('train_df: {}'.format(train_df.shape))\n",
    "print('dev_df: {}'.format(val_df.shape))\n",
    "print('test_df: {}'.format(test_df.shape))"
   ]
  },
  {
   "cell_type": "code",
   "execution_count": 41,
   "metadata": {},
   "outputs": [],
   "source": [
    "train_df.to_csv('../../../resources/data/TC/trec/train.csv')\n",
    "val_df.to_csv('../../../resources/data/TC/trec/val.csv')\n",
    "test_df.to_csv('../../../resources/data/TC/trec/test.csv')"
   ]
  },
  {
   "cell_type": "code",
   "execution_count": 44,
   "metadata": {},
   "outputs": [
    {
     "data": {
      "text/plain": [
       "array([\"Whose special bear 's creator was born on January 18 , 1779 ?\",\n",
       "       'Who commanded the French forces at the Battle of Orleans ?',\n",
       "       \"What was Mark Johnson referring to when he said : `` I still can 't believe it- we beat the Russians ? ''\",\n",
       "       ...,\n",
       "       'What character in The Beverly Hillbillies has the given names Daisy Moses ?',\n",
       "       'What does the River Seine empty into ?',\n",
       "       \"What U.S. Congressman said : `` Keep the faith , baby '' .\"],\n",
       "      dtype=object)"
      ]
     },
     "execution_count": 44,
     "metadata": {},
     "output_type": "execute_result"
    }
   ],
   "source": [
    "train_df.sentence.values"
   ]
  }
 ],
 "metadata": {
  "kernelspec": {
   "display_name": "Python [default]",
   "language": "python",
   "name": "python3"
  },
  "language_info": {
   "codemirror_mode": {
    "name": "ipython",
    "version": 3
   },
   "file_extension": ".py",
   "mimetype": "text/x-python",
   "name": "python",
   "nbconvert_exporter": "python",
   "pygments_lexer": "ipython3",
   "version": "3.6.4"
  }
 },
 "nbformat": 4,
 "nbformat_minor": 2
}
