{
 "cells": [
  {
   "cell_type": "code",
   "execution_count": 1,
   "metadata": {},
   "outputs": [],
   "source": [
    "import pandas as pd\n",
    "import numpy as np\n",
    "import matplotlib.pyplot as plt\n",
    "import os\n",
    "import io\n",
    "import sys"
   ]
  },
  {
   "cell_type": "code",
   "execution_count": 2,
   "metadata": {},
   "outputs": [],
   "source": [
    "from collections import Counter"
   ]
  },
  {
   "cell_type": "code",
   "execution_count": 46,
   "metadata": {},
   "outputs": [],
   "source": [
    "def read_conll(filepath):\n",
    "    all_toks = []\n",
    "    all_cats = []\n",
    "    sents = []\n",
    "    with io.open(filepath, encoding='utf-8') as ip:\n",
    "        sent = []\n",
    "        for line in ip:           \n",
    "            if line in ['\\n']:\n",
    "                sents.append(sent)\n",
    "                sent = []\n",
    "            else:\n",
    "                line = line.strip()\n",
    "                parts = line.split('\\t')\n",
    "                if parts[0] is not '':\n",
    "                    token = parts[0]\n",
    "                    cat = parts[1]\n",
    "                    all_toks.append(token)\n",
    "                    all_cats.append(cat)\n",
    "                    sent.append((token, cat))\n",
    "    return sents, all_toks, all_cats\n",
    "\n",
    "def get_tags_ents(all_cats):\n",
    "    tags = []\n",
    "    ents = []\n",
    "    for cat in set(all_cats):\n",
    "        parts = cat.split('-')\n",
    "        tags.append(parts[0])\n",
    "        if len(parts) > 1:\n",
    "            ents.append(parts[1])\n",
    "        \n",
    "    return set(tags), set(ents)"
   ]
  },
  {
   "cell_type": "code",
   "execution_count": 47,
   "metadata": {},
   "outputs": [
    {
     "name": "stdout",
     "output_type": "stream",
     "text": [
      "processing train file...\n",
      "processing validation file...\n",
      "processing testing file...\n"
     ]
    }
   ],
   "source": [
    "print('processing train file...')\n",
    "train_sents, train_all_toks, train_all_cats = read_conll('../../../resources/data/NER/twitter_wnut17/train.conll')\n",
    "\n",
    "print('processing validation file...')\n",
    "valid_sents, valid_all_toks, valid_all_cats = read_conll('../../../resources/data/NER/twitter_wnut17/valid.conll')\n",
    "\n",
    "print('processing testing file...')\n",
    "test_sents, test_all_toks, test_all_cats = read_conll('../../../resources/data/NER/twitter_wnut17/test.annotated')"
   ]
  },
  {
   "cell_type": "code",
   "execution_count": 48,
   "metadata": {},
   "outputs": [
    {
     "name": "stdout",
     "output_type": "stream",
     "text": [
      "# training sentences:  1000\n",
      "# validation sentences:  1009\n",
      "# testing sentences:  1287\n"
     ]
    }
   ],
   "source": [
    "print('# training sentences: ', len(train_sents))\n",
    "print('# validation sentences: ', len(valid_sents))\n",
    "print('# testing sentences: ', len(test_sents))"
   ]
  },
  {
   "cell_type": "code",
   "execution_count": 54,
   "metadata": {},
   "outputs": [
    {
     "name": "stdout",
     "output_type": "stream",
     "text": [
      "# unique training tokens:  14878\n",
      "# unique_validation tokens:  4102\n",
      "# unique_testing tokens:  6348\n"
     ]
    }
   ],
   "source": [
    "print('# unique training tokens: ', len(set(train_all_toks)))\n",
    "print('# unique_validation tokens: ', len(set(valid_all_toks)))\n",
    "print('# unique_testing tokens: ', len(set(test_all_toks)))"
   ]
  },
  {
   "cell_type": "code",
   "execution_count": 55,
   "metadata": {},
   "outputs": [
    {
     "name": "stdout",
     "output_type": "stream",
     "text": [
      "# training categories:  13\n",
      "# validation categories:  13\n",
      "# testing categories:  13\n"
     ]
    }
   ],
   "source": [
    "print('# training categories: ', len(set(train_all_cats)))\n",
    "print('# validation categories: ', len(set(valid_all_cats)))\n",
    "print('# testing categories: ', len(set(test_all_cats)))"
   ]
  },
  {
   "cell_type": "code",
   "execution_count": 56,
   "metadata": {},
   "outputs": [
    {
     "name": "stdout",
     "output_type": "stream",
     "text": [
      "training tags, entities:  {'I', 'O', 'B'} {'location', 'group', 'corporation', 'person', 'creative', 'product'} 6\n",
      "validation tags, entities:  {'I', 'O', 'B'} {'location', 'group', 'corporation', 'person', 'creative', 'product'} 6\n",
      "training tags, entities:  {'I', 'O', 'B'} {'location', 'group', 'corporation', 'person', 'creative', 'product'} 6\n"
     ]
    }
   ],
   "source": [
    "train_tags, train_ents = get_tags_ents(train_all_cats)\n",
    "print('training tags, entities: ', train_tags, train_ents, len(train_ents))\n",
    "\n",
    "valid_tags, valid_ents = get_tags_ents(valid_all_cats)\n",
    "print('validation tags, entities: ', valid_tags, valid_ents, len(valid_ents))\n",
    "\n",
    "test_tags, test_ents = get_tags_ents(test_all_cats)\n",
    "print('training tags, entities: ', test_tags, test_ents, len(test_ents))"
   ]
  },
  {
   "cell_type": "code",
   "execution_count": 57,
   "metadata": {},
   "outputs": [
    {
     "name": "stdout",
     "output_type": "stream",
     "text": [
      "training distribution\n",
      "Counter({'O': 59570, 'B-person': 660, 'B-location': 548, 'I-person': 335, 'B-group': 264, 'I-location': 245, 'B-corporation': 221, 'I-creative-work': 206, 'I-product': 203, 'I-group': 150, 'B-product': 142, 'B-creative-work': 140, 'I-corporation': 46})\n",
      "\n",
      "\n",
      "validation distribution\n",
      "Counter({'O': 14483, 'B-person': 470, 'I-creative-work': 133, 'I-person': 117, 'B-product': 114, 'B-creative-work': 105, 'I-product': 94, 'B-location': 74, 'B-group': 39, 'B-corporation': 34, 'I-location': 33, 'I-group': 25, 'I-corporation': 12})\n",
      "\n",
      "\n",
      "testing distribution\n",
      "Counter({'O': 21654, 'B-person': 429, 'I-creative-work': 218, 'B-group': 165, 'B-location': 150, 'B-creative-work': 142, 'I-person': 131, 'B-product': 127, 'I-product': 126, 'I-location': 94, 'I-group': 70, 'B-corporation': 66, 'I-corporation': 22})\n",
      "\n",
      "\n"
     ]
    }
   ],
   "source": [
    "print('training distribution')\n",
    "print(Counter(train_all_cats))\n",
    "print('\\n')\n",
    "\n",
    "print('validation distribution')\n",
    "print(Counter(valid_all_cats))\n",
    "print('\\n')\n",
    "\n",
    "print('testing distribution')\n",
    "print(Counter(test_all_cats))\n",
    "print('\\n')"
   ]
  }
 ],
 "metadata": {
  "kernelspec": {
   "display_name": "Python [default]",
   "language": "python",
   "name": "python3"
  },
  "language_info": {
   "codemirror_mode": {
    "name": "ipython",
    "version": 3
   },
   "file_extension": ".py",
   "mimetype": "text/x-python",
   "name": "python",
   "nbconvert_exporter": "python",
   "pygments_lexer": "ipython3",
   "version": "3.6.4"
  }
 },
 "nbformat": 4,
 "nbformat_minor": 2
}
