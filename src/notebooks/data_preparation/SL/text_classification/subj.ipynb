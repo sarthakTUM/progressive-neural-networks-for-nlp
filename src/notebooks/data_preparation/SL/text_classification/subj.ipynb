{
 "cells": [
  {
   "cell_type": "code",
   "execution_count": 2,
   "metadata": {},
   "outputs": [],
   "source": [
    "import pandas as pd\n",
    "import numpy as np\n",
    "import os"
   ]
  },
  {
   "cell_type": "code",
   "execution_count": 3,
   "metadata": {},
   "outputs": [],
   "source": [
    "def csv_to_SL(in_file, out_folder):\n",
    "    sentences = []\n",
    "    labels = []\n",
    "    df = pd.read_csv(in_file)\n",
    "    sentences_file = os.path.join(out_folder, 'sentences.txt')\n",
    "    labels_file = os.path.join(out_folder, 'labels.txt')\n",
    "    with open(sentences_file, 'a') as s_f, open(labels_file, 'a') as l_f:\n",
    "        df.sentence.to_csv(s_f, index=False, mode='a', sep='\\n')\n",
    "        df.label.to_csv(l_f, index=False, mode='a', sep='\\n')"
   ]
  },
  {
   "cell_type": "code",
   "execution_count": 10,
   "metadata": {},
   "outputs": [],
   "source": [
    "num_splits = 10\n",
    "splits = ['train', 'val', 'test']"
   ]
  },
  {
   "cell_type": "code",
   "execution_count": 17,
   "metadata": {},
   "outputs": [],
   "source": [
    "data_dir = '../../../../../src/tc/data/subj'\n",
    "if not os.path.exists(data_dir):\n",
    "    os.makedirs(data_dir)\n",
    "in_folder = '../../../../../resources/data/TC/subj'\n",
    "for split_num in range(1, num_splits+1):\n",
    "    split_dir = os.path.join(data_dir, 'split_'+str(split_num))\n",
    "    if not os.path.exists(split_dir):\n",
    "        os.makedirs(split_dir)\n",
    "    for split in splits:\n",
    "        in_file = os.path.join(in_folder, 'split_'+str(split_num), str(split)+'.csv')\n",
    "        out_folder = os.path.join(split_dir, str(split))\n",
    "        if not os.path.exists(out_folder):\n",
    "            os.makedirs(out_folder)\n",
    "        csv_to_SL(in_file, out_folder)"
   ]
  },
  {
   "cell_type": "code",
   "execution_count": 8,
   "metadata": {},
   "outputs": [],
   "source": [
    "op_data = '../../../../../src/tc/data/subj/'\n",
    "if not os.path.exists(op_data):\n",
    "    os.makedirs(op_data)"
   ]
  },
  {
   "cell_type": "code",
   "execution_count": 9,
   "metadata": {},
   "outputs": [],
   "source": [
    "in_file = '../../../../../resources/data/TC/subj/val.csv'\n",
    "out_folder = os.path.join(op_data, 'val')\n",
    "if not os.path.exists(out_folder):\n",
    "    os.makedirs(out_folder)\n",
    "csv_to_SL(in_file, out_folder)"
   ]
  },
  {
   "cell_type": "code",
   "execution_count": 10,
   "metadata": {},
   "outputs": [],
   "source": [
    "in_file = '../../../../../resources/data/TC/subj/train.csv'\n",
    "out_folder = os.path.join(op_data, 'train')\n",
    "if not os.path.exists(out_folder):\n",
    "    os.makedirs(out_folder)\n",
    "csv_to_SL(in_file, out_folder)"
   ]
  },
  {
   "cell_type": "code",
   "execution_count": 11,
   "metadata": {},
   "outputs": [],
   "source": [
    "in_file = '../../../../../resources/data/TC/subj/test.csv'\n",
    "out_folder = os.path.join(op_data, 'test')\n",
    "if not os.path.exists(out_folder):\n",
    "    os.makedirs(out_folder)\n",
    "csv_to_SL(in_file, out_folder)"
   ]
  }
 ],
 "metadata": {
  "kernelspec": {
   "display_name": "Python [default]",
   "language": "python",
   "name": "python3"
  },
  "language_info": {
   "codemirror_mode": {
    "name": "ipython",
    "version": 3
   },
   "file_extension": ".py",
   "mimetype": "text/x-python",
   "name": "python",
   "nbconvert_exporter": "python",
   "pygments_lexer": "ipython3",
   "version": "3.6.4"
  }
 },
 "nbformat": 4,
 "nbformat_minor": 2
}
