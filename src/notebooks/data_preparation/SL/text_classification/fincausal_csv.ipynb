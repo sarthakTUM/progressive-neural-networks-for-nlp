{
 "cells": [
  {
   "cell_type": "code",
   "execution_count": 1,
   "metadata": {
    "collapsed": true
   },
   "outputs": [],
   "source": [
    "import numpy as np\n",
    "import pandas as pd\n",
    "import os\n",
    "import sys\n",
    "import random, string\n",
    "import nltk\n",
    "from sklearn.utils import shuffle"
   ]
  },
  {
   "cell_type": "code",
   "execution_count": 2,
   "metadata": {
    "collapsed": true
   },
   "outputs": [],
   "source": [
    "root = '../../../../../'"
   ]
  },
  {
   "cell_type": "code",
   "execution_count": 3,
   "metadata": {
    "collapsed": true
   },
   "outputs": [],
   "source": [
    "sys.path.append(root)"
   ]
  },
  {
   "cell_type": "code",
   "execution_count": 4,
   "metadata": {
    "collapsed": true
   },
   "outputs": [],
   "source": [
    "data = '/media/sarthak/HDD/data_science/fnp_resources/data/task1/all_combined'"
   ]
  },
  {
   "cell_type": "code",
   "execution_count": 21,
   "metadata": {
    "collapsed": true
   },
   "outputs": [],
   "source": [
    "test = pd.read_csv(os.path.join(data, 'test.csv'))\n",
    "val = pd.read_csv(os.path.join(data, 'dev.csv'))\n",
    "train = pd.read_csv(os.path.join(data, 'train_dev_test.csv'))\n",
    "submit = pd.read_csv(os.path.join(data, 'eval.csv'))"
   ]
  },
  {
   "cell_type": "code",
   "execution_count": 22,
   "metadata": {},
   "outputs": [
    {
     "data": {
      "text/plain": [
       "((22054, 4), (1985, 4), (2206, 4), (7386, 3))"
      ]
     },
     "execution_count": 22,
     "metadata": {},
     "output_type": "execute_result"
    }
   ],
   "source": [
    "train.shape, val.shape, test.shape, submit.shape"
   ]
  },
  {
   "cell_type": "code",
   "execution_count": 23,
   "metadata": {
    "collapsed": true
   },
   "outputs": [],
   "source": [
    "def create_dir(d):\n",
    "    if not os.path.exists(d):\n",
    "        os.mkdir(d)"
   ]
  },
  {
   "cell_type": "code",
   "execution_count": 24,
   "metadata": {
    "collapsed": true
   },
   "outputs": [],
   "source": [
    "def process(df, out_dir):\n",
    "    def tokenize(sentence):\n",
    "        return nltk.word_tokenize(sentence)\n",
    "    def join(words):\n",
    "        return ' '.join(words)\n",
    "    df['sentence_tokenized'] = df['Text'].apply(tokenize)\n",
    "    df['sentence_tokenized_joined'] = df['sentence_tokenized'].apply(join)\n",
    "    print( df['sentence_tokenized_joined'].shape)\n",
    "    sentences_file = os.path.join(out_dir, 'sentences.txt')\n",
    "    labels_file = os.path.join(out_dir, 'labels.txt')\n",
    "    id_file = os.path.join(out_dir, 'ID.txt')\n",
    "    with open(sentences_file, 'a', encoding='utf-8') as s_f, open(labels_file, 'a', encoding='utf-8') as l_f, open(id_file, 'a', encoding='utf-8') as i_f:\n",
    "        np.savetxt(s_f, df['sentence_tokenized_joined'].values, fmt='%s')\n",
    "        if 'Gold' not in df.columns:\n",
    "            df['Gold'] = 0\n",
    "        np.savetxt(l_f, df['Gold'].values, fmt='%s')\n",
    "        np.savetxt(i_f, df['unique_id'].values, fmt='%s')"
   ]
  },
  {
   "cell_type": "code",
   "execution_count": 25,
   "metadata": {
    "collapsed": true
   },
   "outputs": [],
   "source": [
    "data_dir = os.path.join(root, 'src', 'tc', 'data', 'fincausal_allcombined_traindevtest')\n",
    "create_dir(data_dir)"
   ]
  },
  {
   "cell_type": "code",
   "execution_count": 26,
   "metadata": {},
   "outputs": [
    {
     "name": "stdout",
     "output_type": "stream",
     "text": [
      "(22054,)\n"
     ]
    }
   ],
   "source": [
    "# TRAIN\n",
    "out_dir = os.path.join(data_dir, 'train')\n",
    "create_dir(out_dir)\n",
    "process(train, out_dir)"
   ]
  },
  {
   "cell_type": "code",
   "execution_count": 27,
   "metadata": {},
   "outputs": [
    {
     "name": "stdout",
     "output_type": "stream",
     "text": [
      "(1985,)\n"
     ]
    }
   ],
   "source": [
    "# VAL\n",
    "out_dir = os.path.join(data_dir, 'val')\n",
    "create_dir(out_dir)\n",
    "process(val, out_dir)"
   ]
  },
  {
   "cell_type": "code",
   "execution_count": 28,
   "metadata": {},
   "outputs": [
    {
     "name": "stdout",
     "output_type": "stream",
     "text": [
      "(2206,)\n"
     ]
    }
   ],
   "source": [
    "# TEST\n",
    "out_dir = os.path.join(data_dir, 'test')\n",
    "create_dir(out_dir)\n",
    "process(test, out_dir)"
   ]
  },
  {
   "cell_type": "code",
   "execution_count": 29,
   "metadata": {},
   "outputs": [
    {
     "name": "stdout",
     "output_type": "stream",
     "text": [
      "(7386,)\n"
     ]
    }
   ],
   "source": [
    "# TEST\n",
    "out_dir = os.path.join(data_dir, 'eval')\n",
    "create_dir(out_dir)\n",
    "process(submit, out_dir)"
   ]
  }
 ],
 "metadata": {
  "kernelspec": {
   "display_name": "Python 3",
   "language": "python",
   "name": "python3"
  },
  "language_info": {
   "codemirror_mode": {
    "name": "ipython",
    "version": 3
   },
   "file_extension": ".py",
   "mimetype": "text/x-python",
   "name": "python",
   "nbconvert_exporter": "python",
   "pygments_lexer": "ipython3",
   "version": "3.6.7"
  }
 },
 "nbformat": 4,
 "nbformat_minor": 2
}
