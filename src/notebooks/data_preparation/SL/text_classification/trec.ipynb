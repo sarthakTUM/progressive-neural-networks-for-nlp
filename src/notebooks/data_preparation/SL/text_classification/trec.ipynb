{
 "cells": [
  {
   "cell_type": "code",
   "execution_count": 1,
   "metadata": {},
   "outputs": [],
   "source": [
    "import pandas as pd\n",
    "import numpy as np\n",
    "import os"
   ]
  },
  {
   "cell_type": "code",
   "execution_count": 7,
   "metadata": {},
   "outputs": [],
   "source": [
    "def csv_to_SL(in_file, out_folder):\n",
    "    sentences = []\n",
    "    labels = []\n",
    "    df = pd.read_csv(in_file)\n",
    "    sentences_file = os.path.join(out_folder, 'sentences.txt')\n",
    "    labels_file = os.path.join(out_folder, 'labels.txt')\n",
    "    with open(sentences_file, 'a') as s_f, open(labels_file, 'a') as l_f:\n",
    "        df.sentence.to_csv(s_f, index=False, mode='a', sep='\\n')\n",
    "        df.label.to_csv(l_f, index=False, mode='a', sep='\\n')"
   ]
  },
  {
   "cell_type": "code",
   "execution_count": 8,
   "metadata": {},
   "outputs": [],
   "source": [
    "op_data = '../../../../../src/tc/data/trec'\n",
    "if not os.path.exists(op_data):\n",
    "    os.makedirs(op_data)"
   ]
  },
  {
   "cell_type": "code",
   "execution_count": 9,
   "metadata": {},
   "outputs": [],
   "source": [
    "in_file = '../../../../../resources/data/TC/trec/val.csv'\n",
    "out_folder = os.path.join(op_data, 'val')\n",
    "if not os.path.exists(out_folder):\n",
    "    os.makedirs(out_folder)\n",
    "csv_to_SL(in_file, out_folder)"
   ]
  },
  {
   "cell_type": "code",
   "execution_count": 10,
   "metadata": {},
   "outputs": [],
   "source": [
    "in_file = '../../../../../resources/data/TC/trec/train.csv'\n",
    "out_folder = os.path.join(op_data, 'train')\n",
    "if not os.path.exists(out_folder):\n",
    "    os.makedirs(out_folder)\n",
    "csv_to_SL(in_file, out_folder)"
   ]
  },
  {
   "cell_type": "code",
   "execution_count": 11,
   "metadata": {},
   "outputs": [],
   "source": [
    "in_file = '../../../../../resources/data/TC/trec/test.csv'\n",
    "out_folder = os.path.join(op_data, 'test')\n",
    "if not os.path.exists(out_folder):\n",
    "    os.makedirs(out_folder)\n",
    "csv_to_SL(in_file, out_folder)"
   ]
  }
 ],
 "metadata": {
  "kernelspec": {
   "display_name": "Python [default]",
   "language": "python",
   "name": "python3"
  },
  "language_info": {
   "codemirror_mode": {
    "name": "ipython",
    "version": 3
   },
   "file_extension": ".py",
   "mimetype": "text/x-python",
   "name": "python",
   "nbconvert_exporter": "python",
   "pygments_lexer": "ipython3",
   "version": "3.6.4"
  }
 },
 "nbformat": 4,
 "nbformat_minor": 2
}
