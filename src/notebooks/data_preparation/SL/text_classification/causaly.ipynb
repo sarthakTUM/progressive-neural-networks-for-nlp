{
 "cells": [
  {
   "cell_type": "code",
   "execution_count": 1,
   "metadata": {},
   "outputs": [],
   "source": [
    "import numpy as np\n",
    "import pandas as pd\n",
    "import os\n",
    "import sys\n",
    "import random, string\n",
    "import nltk\n",
    "from sklearn.utils import shuffle"
   ]
  },
  {
   "cell_type": "code",
   "execution_count": 2,
   "metadata": {},
   "outputs": [],
   "source": [
    "root = '../../../../../'"
   ]
  },
  {
   "cell_type": "code",
   "execution_count": 3,
   "metadata": {},
   "outputs": [],
   "source": [
    "sys.path.append(root)"
   ]
  },
  {
   "cell_type": "code",
   "execution_count": 11,
   "metadata": {},
   "outputs": [],
   "source": [
    "data = '/media/sarthak/HDD/data_science/fnp_resources/data/extra/causaly'"
   ]
  },
  {
   "cell_type": "code",
   "execution_count": 12,
   "metadata": {},
   "outputs": [],
   "source": [
    "test = pd.read_csv(os.path.join(data, 'test.csv'))\n",
    "val = pd.read_csv(os.path.join(data, 'dev.csv'))\n",
    "train = pd.read_csv(os.path.join(data, 'train.csv'))"
   ]
  },
  {
   "cell_type": "code",
   "execution_count": 13,
   "metadata": {},
   "outputs": [
    {
     "data": {
      "text/plain": [
       "((1440, 3), (160, 3), (400, 3))"
      ]
     },
     "execution_count": 13,
     "metadata": {},
     "output_type": "execute_result"
    }
   ],
   "source": [
    "train.shape, val.shape, test.shape"
   ]
  },
  {
   "cell_type": "code",
   "execution_count": 14,
   "metadata": {},
   "outputs": [],
   "source": [
    "def create_dir(d):\n",
    "    if not os.path.exists(d):\n",
    "        os.mkdir(d)"
   ]
  },
  {
   "cell_type": "code",
   "execution_count": 15,
   "metadata": {},
   "outputs": [],
   "source": [
    "def process(df, out_dir):\n",
    "    def tokenize(sentence):\n",
    "        return nltk.word_tokenize(sentence)\n",
    "    def join(words):\n",
    "        return ' '.join(words)\n",
    "    df['sentence_tokenized'] = df['sentence'].apply(tokenize)\n",
    "    df['sentence_tokenized_joined'] = df['sentence_tokenized'].apply(join)\n",
    "    print( df['sentence_tokenized_joined'].shape)\n",
    "    sentences_file = os.path.join(out_dir, 'sentences.txt')\n",
    "    labels_file = os.path.join(out_dir, 'labels.txt')\n",
    "    id_file = os.path.join(out_dir, 'ID.txt')\n",
    "    with open(sentences_file, 'a', encoding='utf-8') as s_f, open(labels_file, 'a', encoding='utf-8') as l_f, open(id_file, 'a', encoding='utf-8') as i_f:\n",
    "        np.savetxt(s_f, df['sentence_tokenized_joined'].values, fmt='%s')\n",
    "        np.savetxt(l_f, df['causal'].values, fmt='%s')\n",
    "        np.savetxt(i_f, df['Index'].values, fmt='%s')"
   ]
  },
  {
   "cell_type": "code",
   "execution_count": 19,
   "metadata": {},
   "outputs": [],
   "source": [
    "data_dir = os.path.join(root, 'src', 'tc', 'data', 'causaly')\n",
    "create_dir(data_dir)"
   ]
  },
  {
   "cell_type": "code",
   "execution_count": 20,
   "metadata": {},
   "outputs": [
    {
     "name": "stdout",
     "output_type": "stream",
     "text": [
      "(1440,)\n"
     ]
    }
   ],
   "source": [
    "# TRAIN\n",
    "out_dir = os.path.join(data_dir, 'train')\n",
    "create_dir(out_dir)\n",
    "process(train, out_dir)"
   ]
  },
  {
   "cell_type": "code",
   "execution_count": 21,
   "metadata": {},
   "outputs": [
    {
     "name": "stdout",
     "output_type": "stream",
     "text": [
      "(160,)\n"
     ]
    }
   ],
   "source": [
    "# VAL\n",
    "out_dir = os.path.join(data_dir, 'val')\n",
    "create_dir(out_dir)\n",
    "process(val, out_dir)"
   ]
  },
  {
   "cell_type": "code",
   "execution_count": 22,
   "metadata": {},
   "outputs": [
    {
     "name": "stdout",
     "output_type": "stream",
     "text": [
      "(400,)\n"
     ]
    }
   ],
   "source": [
    "# TEST\n",
    "out_dir = os.path.join(data_dir, 'test')\n",
    "create_dir(out_dir)\n",
    "process(test, out_dir)"
   ]
  }
 ],
 "metadata": {
  "kernelspec": {
   "display_name": "Python 3",
   "language": "python",
   "name": "python3"
  },
  "language_info": {
   "codemirror_mode": {
    "name": "ipython",
    "version": 3
   },
   "file_extension": ".py",
   "mimetype": "text/x-python",
   "name": "python",
   "nbconvert_exporter": "python",
   "pygments_lexer": "ipython3",
   "version": "3.6.7"
  }
 },
 "nbformat": 4,
 "nbformat_minor": 2
}
