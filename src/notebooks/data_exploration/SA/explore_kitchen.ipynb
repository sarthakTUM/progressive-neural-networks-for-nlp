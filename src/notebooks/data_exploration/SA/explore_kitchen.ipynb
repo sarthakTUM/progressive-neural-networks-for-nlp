{
 "cells": [
  {
   "cell_type": "code",
   "execution_count": 55,
   "metadata": {},
   "outputs": [],
   "source": [
    "import numpy as np\n",
    "import pandas as pd\n",
    "import os\n",
    "import sys"
   ]
  },
  {
   "cell_type": "code",
   "execution_count": 56,
   "metadata": {},
   "outputs": [],
   "source": [
    "def read_sentences_labels(sentence_file_path, label_file_path):\n",
    "    sentences = []\n",
    "    labels = []\n",
    "    with open(sentence_file_path, 'r') as sf, open(label_file_path, 'r') as lf:\n",
    "        sent = sf.readlines()\n",
    "        lab = lf.readlines()\n",
    "        assert len(sent) == len(lab)\n",
    "        for sentence, label in zip(sent, lab):\n",
    "            sentence_split = sentence.strip().split(' ')\n",
    "            label_split = label.strip()\n",
    "            \n",
    "            assert len(label_split) == 1\n",
    "            sentences.append(sentence_split)\n",
    "            labels.append(label_split)\n",
    "        \n",
    "        assert len(sentences) == len(labels)\n",
    "        return sentences, labels"
   ]
  },
  {
   "cell_type": "code",
   "execution_count": 57,
   "metadata": {},
   "outputs": [],
   "source": [
    "sys.path.append('../../../../')"
   ]
  },
  {
   "cell_type": "code",
   "execution_count": 58,
   "metadata": {},
   "outputs": [],
   "source": [
    "data_dir = '../../../../src/tc/data/kitchen_housewares/'"
   ]
  },
  {
   "cell_type": "code",
   "execution_count": 59,
   "metadata": {},
   "outputs": [],
   "source": [
    "train, val, test = os.path.join(data_dir, 'train'), os.path.join(data_dir, 'val'), os.path.join(data_dir, 'test')"
   ]
  },
  {
   "cell_type": "code",
   "execution_count": 60,
   "metadata": {},
   "outputs": [],
   "source": [
    "splits = [train, val, test]"
   ]
  },
  {
   "cell_type": "code",
   "execution_count": 61,
   "metadata": {},
   "outputs": [
    {
     "data": {
      "text/plain": [
       "['../../../../src/tc/data/kitchen_housewares/train',\n",
       " '../../../../src/tc/data/kitchen_housewares/val',\n",
       " '../../../../src/tc/data/kitchen_housewares/test']"
      ]
     },
     "execution_count": 61,
     "metadata": {},
     "output_type": "execute_result"
    }
   ],
   "source": [
    "splits"
   ]
  },
  {
   "cell_type": "code",
   "execution_count": 62,
   "metadata": {},
   "outputs": [],
   "source": [
    "data = {}\n",
    "for split in splits:\n",
    "    data[split.split('/')[-1]] = dict()\n",
    "    sentences, labels = read_sentences_labels(os.path.join(split, 'sentences.txt'), os.path.join(split, 'labels.txt'))\n",
    "    data[split.split('/')[-1]]['sentences'] = sentences\n",
    "    data[split.split('/')[-1]]['labels'] = labels\n",
    "    data[split.split('/')[-1]]['size'] = len(sentences)"
   ]
  },
  {
   "cell_type": "code",
   "execution_count": 63,
   "metadata": {},
   "outputs": [],
   "source": [
    "all_data = dict()\n",
    "all_data['sentences'] = [item for sublist in [data[split]['sentences'] for split in data] for item in sublist]\n",
    "all_data['labels'] = [item for sublist in [data[split]['labels'] for split in data] for item in sublist]"
   ]
  },
  {
   "cell_type": "code",
   "execution_count": 64,
   "metadata": {},
   "outputs": [
    {
     "data": {
      "text/plain": [
       "{'0', '1'}"
      ]
     },
     "execution_count": 64,
     "metadata": {},
     "output_type": "execute_result"
    }
   ],
   "source": [
    "# different entity types\n",
    "unique_entities_iobes = list(set([item for sublist in all_data['labels'] for item in sublist]))\n",
    "unique_entities = set([entity.split('-')[-1] for entity in unique_entities_iobes])\n",
    "unique_entities"
   ]
  },
  {
   "cell_type": "code",
   "execution_count": 65,
   "metadata": {},
   "outputs": [
    {
     "data": {
      "text/plain": [
       "Counter({'0': 1000, '1': 1000})"
      ]
     },
     "execution_count": 65,
     "metadata": {},
     "output_type": "execute_result"
    }
   ],
   "source": [
    "# distributions in whole dataset\n",
    "from collections import Counter\n",
    "all_entities_iobes = [item for sublist in all_data['labels'] for item in sublist]\n",
    "all_entities = [entity.split('-')[-1] for entity in all_entities_iobes]\n",
    "counter = Counter(all_entities)\n",
    "counter"
   ]
  },
  {
   "cell_type": "code",
   "execution_count": 66,
   "metadata": {},
   "outputs": [
    {
     "data": {
      "text/plain": [
       "2000"
      ]
     },
     "execution_count": 66,
     "metadata": {},
     "output_type": "execute_result"
    }
   ],
   "source": [
    "# size of the whole dataset\n",
    "num_sentences = 0\n",
    "for split in data:\n",
    "    num_sentences += data[split]['size']\n",
    "num_sentences"
   ]
  },
  {
   "cell_type": "code",
   "execution_count": 67,
   "metadata": {},
   "outputs": [
    {
     "data": {
      "text/plain": [
       "10728"
      ]
     },
     "execution_count": 67,
     "metadata": {},
     "output_type": "execute_result"
    }
   ],
   "source": [
    "# num_tokens unique\n",
    "all_tokens = [item for sublist in all_data['sentences'] for item in sublist]\n",
    "unique_tokens = set(all_tokens)\n",
    "len(unique_tokens)"
   ]
  },
  {
   "cell_type": "code",
   "execution_count": 68,
   "metadata": {},
   "outputs": [
    {
     "data": {
      "text/plain": [
       "197188"
      ]
     },
     "execution_count": 68,
     "metadata": {},
     "output_type": "execute_result"
    }
   ],
   "source": [
    "# num_tokens total\n",
    "all_tokens = [item for sublist in all_data['sentences'] for item in sublist]\n",
    "len(all_tokens)"
   ]
  },
  {
   "cell_type": "code",
   "execution_count": 69,
   "metadata": {},
   "outputs": [
    {
     "name": "stdout",
     "output_type": "stream",
     "text": [
      "train:1440\n",
      "val:160\n",
      "test:400\n"
     ]
    }
   ],
   "source": [
    "# Train-Val-Test split, distribution in terms of sentences\n",
    "for split in data:\n",
    "    print('{}:{}'.format(split, data[split]['size']))"
   ]
  },
  {
   "cell_type": "code",
   "execution_count": 70,
   "metadata": {},
   "outputs": [
    {
     "name": "stdout",
     "output_type": "stream",
     "text": [
      "train:9120\n",
      "val:2562\n",
      "test:4556\n"
     ]
    }
   ],
   "source": [
    "# Train-Val-Test split, distribution in terms of tokens\n",
    "for split in data:\n",
    "    print('{}:{}'.format(split, len(set([item for sublist in data[split]['sentences'] for item in sublist]))))"
   ]
  },
  {
   "cell_type": "code",
   "execution_count": null,
   "metadata": {},
   "outputs": [],
   "source": [
    "# Train-Val-Test split, distribution in terms of entities\n",
    "from collections import Counter\n",
    "for split in data:\n",
    "    split_entities_iobes = [item for sublist in data[split]['labels'] for item in sublist]\n",
    "    split_entities = [entity.split('-')[-1] for entity in split_entities_iobes]\n",
    "    counter = Counter(split_entities)\n",
    "    data[split]['entity_distribution'] = counter"
   ]
  }
 ],
 "metadata": {
  "kernelspec": {
   "display_name": "Python [default]",
   "language": "python",
   "name": "python3"
  },
  "language_info": {
   "codemirror_mode": {
    "name": "ipython",
    "version": 3
   },
   "file_extension": ".py",
   "mimetype": "text/x-python",
   "name": "python",
   "nbconvert_exporter": "python",
   "pygments_lexer": "ipython3",
   "version": "3.6.4"
  }
 },
 "nbformat": 4,
 "nbformat_minor": 2
}
