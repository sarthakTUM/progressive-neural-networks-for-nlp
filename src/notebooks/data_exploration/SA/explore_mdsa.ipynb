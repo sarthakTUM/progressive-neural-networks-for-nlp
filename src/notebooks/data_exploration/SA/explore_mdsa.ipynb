{
 "cells": [
  {
   "cell_type": "code",
   "execution_count": 1,
   "metadata": {},
   "outputs": [],
   "source": [
    "import pandas as pd\n",
    "import numpy as np\n",
    "import os"
   ]
  },
  {
   "cell_type": "code",
   "execution_count": 6,
   "metadata": {},
   "outputs": [],
   "source": [
    "data_dir = '../../../resources/data/TC/processed_acl/'"
   ]
  },
  {
   "cell_type": "code",
   "execution_count": 7,
   "metadata": {},
   "outputs": [
    {
     "data": {
      "text/plain": [
       "['books', 'dvd', 'electronics', 'kitchen']"
      ]
     },
     "execution_count": 7,
     "metadata": {},
     "output_type": "execute_result"
    }
   ],
   "source": [
    "domains = os.listdir(data_dir)\n",
    "domains"
   ]
  },
  {
   "cell_type": "code",
   "execution_count": 8,
   "metadata": {},
   "outputs": [],
   "source": [
    "def read_review(file_path):\n",
    "    with open(file_path, 'r') as f:\n",
    "        lines = f.readlines()\n",
    "        return lines"
   ]
  },
  {
   "cell_type": "code",
   "execution_count": 13,
   "metadata": {},
   "outputs": [],
   "source": [
    "lines = read_review(os.path.join(data_dir, domains[0], 'negative.review'))"
   ]
  },
  {
   "cell_type": "code",
   "execution_count": 16,
   "metadata": {},
   "outputs": [
    {
     "data": {
      "text/plain": [
       "1000"
      ]
     },
     "execution_count": 16,
     "metadata": {},
     "output_type": "execute_result"
    }
   ],
   "source": [
    "len(lines)"
   ]
  },
  {
   "cell_type": "code",
   "execution_count": 15,
   "metadata": {},
   "outputs": [
    {
     "data": {
      "text/plain": [
       "['to_use:1',\n",
       " 'shallow:1',\n",
       " 'found:1',\n",
       " 'he_castigates:1',\n",
       " 'castigates_for:1',\n",
       " 'items_which:1',\n",
       " 'and_panders:1',\n",
       " 'so:1',\n",
       " 'play_for:1',\n",
       " 'person_with:1',\n",
       " 'was:1',\n",
       " 'reviews:1',\n",
       " 'offer_this:1',\n",
       " 'perceptions_about:1',\n",
       " 'usually:1',\n",
       " 'for_dissenting:1',\n",
       " 'when_purchasing:1',\n",
       " 'smug:1',\n",
       " 'world_this:1',\n",
       " 'this_work:1',\n",
       " 'offer:1',\n",
       " 'no:1',\n",
       " 'with_little:1',\n",
       " 'tone_throughout:1',\n",
       " 'a_person:1',\n",
       " 'bashers_of:1',\n",
       " 'portrayal_of:1',\n",
       " 'use_the:1',\n",
       " 'play:1',\n",
       " 'review:1',\n",
       " 'i_found:1',\n",
       " 'i_like:1',\n",
       " 'popularity:1',\n",
       " 'world:1',\n",
       " 'the_amazon:1',\n",
       " 'self-indulgence:1',\n",
       " 'me:2',\n",
       " 'it_smug:1',\n",
       " 'i_offer:1',\n",
       " 'the_family:1',\n",
       " 'seriously:1',\n",
       " 'like_to:1',\n",
       " 'and_self-indulgent:1',\n",
       " 'questions_the:1',\n",
       " '\"shrink\"_bashers:1',\n",
       " 'work_:1',\n",
       " 'books_especially:1',\n",
       " 'disuades_me:1',\n",
       " 'especially_for:1',\n",
       " 'which_usually:1',\n",
       " 'purchasing_books:1',\n",
       " 'throughout_the:1',\n",
       " 'family_therapist:1',\n",
       " 'work:1',\n",
       " 'distasteful:1',\n",
       " 'self-serving:1',\n",
       " 'distasteful_to:1',\n",
       " 'example:1',\n",
       " 'alert_for:1',\n",
       " 'reaches_for:1',\n",
       " 'dissenting_perceptions:1',\n",
       " 'review_that:1',\n",
       " 'dissenting:1',\n",
       " 'found_it:1',\n",
       " 'book_was:1',\n",
       " 'people:1',\n",
       " 'selection_so:1',\n",
       " 'higly_rated:1',\n",
       " 'the_world:1',\n",
       " 'usually_disuades:1',\n",
       " 'and_reaches:1',\n",
       " 'little:1',\n",
       " 'throughout:1',\n",
       " 'implausible:1',\n",
       " 'amazon:1',\n",
       " 'for_effect:2',\n",
       " 'panders_to:1',\n",
       " 'popularity_of:1',\n",
       " 'bashers:1',\n",
       " 'for_example:1',\n",
       " 'when:1',\n",
       " 'especially:2',\n",
       " 'use:1',\n",
       " 'very:1',\n",
       " 'therapist_seems:1',\n",
       " 'no_empathy:1',\n",
       " 'the_book:1',\n",
       " 'very_distasteful:1',\n",
       " 'this_review:1',\n",
       " 'amazon_reviews:1',\n",
       " 'a_selection:1',\n",
       " 'self-serving_and:1',\n",
       " 'reviews_when:1',\n",
       " 'little_or:1',\n",
       " 'smug_self-serving:1',\n",
       " 'panders:1',\n",
       " 'purchasing:1',\n",
       " 'he:1',\n",
       " 'written_by:1',\n",
       " 'self-indulgent_written:1',\n",
       " '\"shrink\":1',\n",
       " 'especially_alert:1',\n",
       " 'empathy_especially:1',\n",
       " 'selection:1',\n",
       " 'castigates:1',\n",
       " 'self-indulgent:1',\n",
       " 'perceptions:1',\n",
       " 'written:1',\n",
       " 'people_he:1',\n",
       " 'reaches:1',\n",
       " 'seriously_questions:1',\n",
       " 'family:1',\n",
       " 'about_higly:1',\n",
       " 'questions:1',\n",
       " 'rated:1',\n",
       " 'empathy:1',\n",
       " 'i:3',\n",
       " 'portrayal:1',\n",
       " 'about:1',\n",
       " 'books:1',\n",
       " 'his:1',\n",
       " 'rated_items:1',\n",
       " 'higly:1',\n",
       " 'shallow_self-indulgence:1',\n",
       " 'alert:1',\n",
       " 'tone:1',\n",
       " 'person:1',\n",
       " 'seems_implausible:1',\n",
       " 'items:1',\n",
       " 'effect_tone:1',\n",
       " 'disuades:1',\n",
       " 'book:1',\n",
       " 'like:1',\n",
       " 'to_me:1',\n",
       " 'his_portrayal:1',\n",
       " 'effect:2',\n",
       " 'was_very:1',\n",
       " 'the_popularity:1',\n",
       " 'or_no:1',\n",
       " 'effect_and:1',\n",
       " 'the_\"shrink\":1',\n",
       " 'me_from:1',\n",
       " 'therapist:1',\n",
       " 'implausible_and:1',\n",
       " 'that_seriously:1',\n",
       " 'this_play:1',\n",
       " 'seems:1',\n",
       " 'which:1',\n",
       " 'the_people:1',\n",
       " 'so_i:1',\n",
       " 'example_his:1',\n",
       " '#label#:negative\\n']"
      ]
     },
     "execution_count": 15,
     "metadata": {},
     "output_type": "execute_result"
    }
   ],
   "source": [
    "lines[1].split(' ')"
   ]
  },
  {
   "cell_type": "code",
   "execution_count": 20,
   "metadata": {},
   "outputs": [],
   "source": [
    "all_feats = [line.split(' ') for line in lines]\n",
    "flat_list = [item for sublist in all_feats for item in sublist]"
   ]
  },
  {
   "cell_type": "code",
   "execution_count": 21,
   "metadata": {},
   "outputs": [
    {
     "data": {
      "text/plain": [
       "245834"
      ]
     },
     "execution_count": 21,
     "metadata": {},
     "output_type": "execute_result"
    }
   ],
   "source": [
    "len(flat_list)"
   ]
  },
  {
   "cell_type": "code",
   "execution_count": 23,
   "metadata": {},
   "outputs": [
    {
     "data": {
      "text/plain": [
       "245834"
      ]
     },
     "execution_count": 23,
     "metadata": {},
     "output_type": "execute_result"
    }
   ],
   "source": [
    "feats = [f.split(':')[0] for f in flat_list]\n",
    "len(feats)"
   ]
  },
  {
   "cell_type": "code",
   "execution_count": 25,
   "metadata": {},
   "outputs": [
    {
     "data": {
      "text/plain": [
       "'your'"
      ]
     },
     "execution_count": 25,
     "metadata": {},
     "output_type": "execute_result"
    }
   ],
   "source": [
    "feats[1]"
   ]
  },
  {
   "cell_type": "code",
   "execution_count": 26,
   "metadata": {},
   "outputs": [
    {
     "data": {
      "text/plain": [
       "111987"
      ]
     },
     "execution_count": 26,
     "metadata": {},
     "output_type": "execute_result"
    }
   ],
   "source": [
    "feats_unique = set(feats)\n",
    "len(feats_unique)"
   ]
  },
  {
   "cell_type": "code",
   "execution_count": null,
   "metadata": {},
   "outputs": [],
   "source": []
  }
 ],
 "metadata": {
  "kernelspec": {
   "display_name": "Python [default]",
   "language": "python",
   "name": "python3"
  },
  "language_info": {
   "codemirror_mode": {
    "name": "ipython",
    "version": 3
   },
   "file_extension": ".py",
   "mimetype": "text/x-python",
   "name": "python",
   "nbconvert_exporter": "python",
   "pygments_lexer": "ipython3",
   "version": "3.6.4"
  }
 },
 "nbformat": 4,
 "nbformat_minor": 2
}
