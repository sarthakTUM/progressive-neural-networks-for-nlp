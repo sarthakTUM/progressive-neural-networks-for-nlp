{
 "cells": [
  {
   "cell_type": "code",
   "execution_count": 1,
   "metadata": {},
   "outputs": [],
   "source": [
    "import numpy as np\n",
    "import pandas as pd\n",
    "import os\n",
    "import sys\n",
    "import random, string\n",
    "import nltk\n",
    "from sklearn.utils import shuffle"
   ]
  },
  {
   "cell_type": "code",
   "execution_count": 29,
   "metadata": {},
   "outputs": [],
   "source": [
    "root = '../../../../../'"
   ]
  },
  {
   "cell_type": "code",
   "execution_count": 30,
   "metadata": {},
   "outputs": [],
   "source": [
    "sys.path.append(root)"
   ]
  },
  {
   "cell_type": "code",
   "execution_count": 31,
   "metadata": {},
   "outputs": [],
   "source": [
    "data = os.path.join(root, 'resources', 'data', 'TC', 'social_rom')"
   ]
  },
  {
   "cell_type": "code",
   "execution_count": 32,
   "metadata": {},
   "outputs": [],
   "source": [
    "train = pd.read_csv(os.path.join(data, 'train.csv'), sep='|')\n",
    "val = pd.read_csv(os.path.join(data, 'val.csv'), sep='|')\n",
    "test = pd.read_csv(os.path.join(data, 'test.csv'), sep='|')"
   ]
  },
  {
   "cell_type": "code",
   "execution_count": 33,
   "metadata": {},
   "outputs": [
    {
     "data": {
      "text/plain": [
       "((8920, 13), (785, 13), (737, 13))"
      ]
     },
     "execution_count": 33,
     "metadata": {},
     "output_type": "execute_result"
    }
   ],
   "source": [
    "train.shape, val.shape, test.shape"
   ]
  },
  {
   "cell_type": "code",
   "execution_count": 34,
   "metadata": {},
   "outputs": [],
   "source": [
    "def create_dir(d):\n",
    "    if not os.path.exists(d):\n",
    "        os.mkdir(d)"
   ]
  },
  {
   "cell_type": "code",
   "execution_count": 40,
   "metadata": {},
   "outputs": [],
   "source": [
    "def process(df, out_dir):\n",
    "    def get_id(row):\n",
    "        return ''.join(random.choices(string.ascii_letters + string.digits, k=16))\n",
    "    def tokenize(sentence):\n",
    "        return nltk.word_tokenize(sentence)\n",
    "    def labelize(label):\n",
    "        if label == 'n':\n",
    "            return '0'\n",
    "        elif label == '0':\n",
    "            return '1'\n",
    "        elif label == 'p':\n",
    "            return '2'\n",
    "    def join(words):\n",
    "        return ' '.join(words)\n",
    "    df = df[df.Domain_Relevance != 0]\n",
    "    df = df[df.Sentiment.isin(['0', 'p', 'n'])]\n",
    "    df = df[~df.duplicated(['Sentence'])]\n",
    "    df['sentence_tokenized'] = df['Sentence'].apply(tokenize)\n",
    "    df['sentence_tokenized_joined'] = df['sentence_tokenized'].apply(join)\n",
    "    df['label_new'] = df['Sentiment'].apply(labelize)\n",
    "    df['ID'] = [''.join(random.choices(string.ascii_letters + string.digits, k=16)) for i in range(df.shape[0])]\n",
    "    df = shuffle(df)\n",
    "    sentences_file = os.path.join(out_dir, 'sentences.txt')\n",
    "    labels_file = os.path.join(out_dir, 'labels.txt')\n",
    "    id_file = os.path.join(out_dir, 'ID.txt')\n",
    "    with open(sentences_file, 'a', encoding='utf-8') as s_f, open(labels_file, 'a', encoding='utf-8') as l_f, open(id_file, 'a', encoding='utf-8') as i_f:\n",
    "        np.savetxt(s_f, df['sentence_tokenized_joined'].values, fmt='%s')\n",
    "        np.savetxt(l_f, df['label_new'].values, fmt='%s')\n",
    "        np.savetxt(i_f, df['ID'].values, fmt='%s')"
   ]
  },
  {
   "cell_type": "code",
   "execution_count": 41,
   "metadata": {},
   "outputs": [],
   "source": [
    "data_dir = os.path.join(root, 'src', 'tc', 'data', 'organic')\n",
    "create_dir(data_dir)"
   ]
  },
  {
   "cell_type": "code",
   "execution_count": 42,
   "metadata": {},
   "outputs": [],
   "source": [
    "# TRAIN\n",
    "out_dir = os.path.join(data_dir, 'train')\n",
    "create_dir(out_dir)\n",
    "process(train, out_dir)"
   ]
  },
  {
   "cell_type": "code",
   "execution_count": 43,
   "metadata": {},
   "outputs": [],
   "source": [
    "# VAL\n",
    "out_dir = os.path.join(data_dir, 'val')\n",
    "create_dir(out_dir)\n",
    "process(val, out_dir)"
   ]
  },
  {
   "cell_type": "code",
   "execution_count": 44,
   "metadata": {},
   "outputs": [],
   "source": [
    "# TEST\n",
    "out_dir = os.path.join(data_dir, 'test')\n",
    "create_dir(out_dir)\n",
    "process(test, out_dir)"
   ]
  }
 ],
 "metadata": {
  "kernelspec": {
   "display_name": "Python 3",
   "language": "python",
   "name": "python3"
  },
  "language_info": {
   "codemirror_mode": {
    "name": "ipython",
    "version": 3
   },
   "file_extension": ".py",
   "mimetype": "text/x-python",
   "name": "python",
   "nbconvert_exporter": "python",
   "pygments_lexer": "ipython3",
   "version": "3.6.7"
  }
 },
 "nbformat": 4,
 "nbformat_minor": 2
}
