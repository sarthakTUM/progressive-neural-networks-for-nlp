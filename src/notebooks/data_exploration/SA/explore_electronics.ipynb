{
 "cells": [
  {
   "cell_type": "code",
   "execution_count": 1,
   "metadata": {},
   "outputs": [],
   "source": [
    "import numpy as np\n",
    "import pandas as pd\n",
    "import os\n",
    "import sys"
   ]
  },
  {
   "cell_type": "code",
   "execution_count": 2,
   "metadata": {},
   "outputs": [],
   "source": [
    "def read_sentences_labels(sentence_file_path, label_file_path):\n",
    "    sentences = []\n",
    "    labels = []\n",
    "    with open(sentence_file_path, 'r') as sf, open(label_file_path, 'r') as lf:\n",
    "        sent = sf.readlines()\n",
    "        lab = lf.readlines()\n",
    "        assert len(sent) == len(lab)\n",
    "        for sentence, label in zip(sent, lab):\n",
    "            sentence_split = sentence.strip().split(' ')\n",
    "            label_split = label.strip()\n",
    "            \n",
    "            assert len(label_split) == 1\n",
    "            sentences.append(sentence_split)\n",
    "            labels.append(label_split)\n",
    "        \n",
    "        assert len(sentences) == len(labels)\n",
    "        return sentences, labels"
   ]
  },
  {
   "cell_type": "code",
   "execution_count": 3,
   "metadata": {},
   "outputs": [],
   "source": [
    "sys.path.append('../../../../')"
   ]
  },
  {
   "cell_type": "code",
   "execution_count": 4,
   "metadata": {},
   "outputs": [],
   "source": [
    "data_dir = '../../../../src/tc/data/electronics/'"
   ]
  },
  {
   "cell_type": "code",
   "execution_count": 5,
   "metadata": {},
   "outputs": [],
   "source": [
    "train, test = os.path.join(data_dir, 'train'), os.path.join(data_dir, 'test')"
   ]
  },
  {
   "cell_type": "code",
   "execution_count": 6,
   "metadata": {},
   "outputs": [],
   "source": [
    "splits = [train, test]"
   ]
  },
  {
   "cell_type": "code",
   "execution_count": 7,
   "metadata": {},
   "outputs": [
    {
     "data": {
      "text/plain": [
       "['../../../../src/tc/data/electronics/train',\n",
       " '../../../../src/tc/data/electronics/test']"
      ]
     },
     "execution_count": 7,
     "metadata": {},
     "output_type": "execute_result"
    }
   ],
   "source": [
    "splits"
   ]
  },
  {
   "cell_type": "code",
   "execution_count": 8,
   "metadata": {},
   "outputs": [],
   "source": [
    "data = {}\n",
    "for split in splits:\n",
    "    data[split.split('/')[-1]] = dict()\n",
    "    sentences, labels = read_sentences_labels(os.path.join(split, 'sentences.txt'), os.path.join(split, 'labels.txt'))\n",
    "    data[split.split('/')[-1]]['sentences'] = sentences\n",
    "    data[split.split('/')[-1]]['labels'] = labels\n",
    "    data[split.split('/')[-1]]['size'] = len(sentences)"
   ]
  },
  {
   "cell_type": "code",
   "execution_count": 9,
   "metadata": {},
   "outputs": [],
   "source": [
    "all_data = dict()\n",
    "all_data['sentences'] = [item for sublist in [data[split]['sentences'] for split in data] for item in sublist]\n",
    "all_data['labels'] = [item for sublist in [data[split]['labels'] for split in data] for item in sublist]"
   ]
  },
  {
   "cell_type": "code",
   "execution_count": 10,
   "metadata": {},
   "outputs": [
    {
     "data": {
      "text/plain": [
       "{'0', '1'}"
      ]
     },
     "execution_count": 10,
     "metadata": {},
     "output_type": "execute_result"
    }
   ],
   "source": [
    "# different entity types\n",
    "unique_entities_iobes = list(set([item for sublist in all_data['labels'] for item in sublist]))\n",
    "unique_entities = set([entity.split('-')[-1] for entity in unique_entities_iobes])\n",
    "unique_entities"
   ]
  },
  {
   "cell_type": "code",
   "execution_count": 11,
   "metadata": {},
   "outputs": [
    {
     "data": {
      "text/plain": [
       "Counter({'0': 998, '1': 1000})"
      ]
     },
     "execution_count": 11,
     "metadata": {},
     "output_type": "execute_result"
    }
   ],
   "source": [
    "# distributions in whole dataset\n",
    "from collections import Counter\n",
    "all_entities_iobes = [item for sublist in all_data['labels'] for item in sublist]\n",
    "all_entities = [entity.split('-')[-1] for entity in all_entities_iobes]\n",
    "counter = Counter(all_entities)\n",
    "counter"
   ]
  },
  {
   "cell_type": "code",
   "execution_count": 12,
   "metadata": {},
   "outputs": [
    {
     "data": {
      "text/plain": [
       "1998"
      ]
     },
     "execution_count": 12,
     "metadata": {},
     "output_type": "execute_result"
    }
   ],
   "source": [
    "# size of the whole dataset\n",
    "num_sentences = 0\n",
    "for split in data:\n",
    "    num_sentences += data[split]['size']\n",
    "num_sentences"
   ]
  },
  {
   "cell_type": "code",
   "execution_count": 13,
   "metadata": {},
   "outputs": [
    {
     "data": {
      "text/plain": [
       "12607"
      ]
     },
     "execution_count": 13,
     "metadata": {},
     "output_type": "execute_result"
    }
   ],
   "source": [
    "# num_tokens unique\n",
    "all_tokens = [item for sublist in all_data['sentences'] for item in sublist]\n",
    "unique_tokens = set(all_tokens)\n",
    "len(unique_tokens)"
   ]
  },
  {
   "cell_type": "code",
   "execution_count": 14,
   "metadata": {},
   "outputs": [
    {
     "data": {
      "text/plain": [
       "361624"
      ]
     },
     "execution_count": 14,
     "metadata": {},
     "output_type": "execute_result"
    }
   ],
   "source": [
    "# num_tokens total\n",
    "all_tokens = [item for sublist in all_data['sentences'] for item in sublist]\n",
    "len(all_tokens)"
   ]
  },
  {
   "cell_type": "code",
   "execution_count": 15,
   "metadata": {},
   "outputs": [
    {
     "name": "stdout",
     "output_type": "stream",
     "text": [
      "train:1600\n",
      "test:400\n"
     ]
    }
   ],
   "source": [
    "# Train-Val-Test split, distribution in terms of sentences\n",
    "for split in data:\n",
    "    print('{}:{}'.format(split, data[split]['size']))"
   ]
  },
  {
   "cell_type": "code",
   "execution_count": 16,
   "metadata": {},
   "outputs": [
    {
     "name": "stdout",
     "output_type": "stream",
     "text": [
      "train:7424\n",
      "test:3340\n"
     ]
    }
   ],
   "source": [
    "# Train-Val-Test split, distribution in terms of tokens\n",
    "for split in data:\n",
    "    print('{}:{}'.format(split, len(set([item for sublist in data[split]['sentences'] for item in sublist]))))"
   ]
  },
  {
   "cell_type": "code",
   "execution_count": 33,
   "metadata": {},
   "outputs": [],
   "source": [
    "# Train-Val-Test split, distribution in terms of entities\n",
    "from collections import Counter\n",
    "for split in data:\n",
    "    split_entities_iobes = [item for sublist in data[split]['labels'] for item in sublist]\n",
    "    split_entities = [entity.split('-')[-1] for entity in split_entities_iobes]\n",
    "    counter = Counter(split_entities)\n",
    "    data[split]['entity_distribution'] = counter"
   ]
  },
  {
   "cell_type": "code",
   "execution_count": null,
   "metadata": {},
   "outputs": [],
   "source": []
  }
 ],
 "metadata": {
  "kernelspec": {
   "display_name": "Python [default]",
   "language": "python",
   "name": "python3"
  },
  "language_info": {
   "codemirror_mode": {
    "name": "ipython",
    "version": 3
   },
   "file_extension": ".py",
   "mimetype": "text/x-python",
   "name": "python",
   "nbconvert_exporter": "python",
   "pygments_lexer": "ipython3",
   "version": "3.6.4"
  }
 },
 "nbformat": 4,
 "nbformat_minor": 2
}
