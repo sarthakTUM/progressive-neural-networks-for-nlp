{
 "cells": [
  {
   "cell_type": "code",
   "execution_count": 1,
   "metadata": {},
   "outputs": [],
   "source": [
    "import pandas as pd\n",
    "import numpy as np\n",
    "import matplotlib.pyplot as plt\n",
    "import os\n",
    "import io\n",
    "import sys"
   ]
  },
  {
   "cell_type": "code",
   "execution_count": 2,
   "metadata": {},
   "outputs": [],
   "source": [
    "from collections import Counter"
   ]
  },
  {
   "cell_type": "code",
   "execution_count": 3,
   "metadata": {},
   "outputs": [],
   "source": [
    "def read_conll(filepath):\n",
    "    all_toks = []\n",
    "    all_cats = []\n",
    "    sents = []\n",
    "    with io.open(filepath, encoding='utf-8') as ip:\n",
    "        sent = []\n",
    "        for line in ip:\n",
    "            if line == '-DOCSTART-\\n':\n",
    "                continue\n",
    "            if line == '\\n':\n",
    "                sents.append(sent)\n",
    "                sent = []\n",
    "            else:\n",
    "                line = line.strip()\n",
    "                token = line.split()[0]\n",
    "                cat = line.split()[1]\n",
    "                all_toks.append(token)\n",
    "                all_cats.append(cat)\n",
    "                sent.append((token, cat))\n",
    "    return sents, all_toks, all_cats\n",
    "\n",
    "def get_tags_ents(all_cats):\n",
    "    tags = []\n",
    "    ents = []\n",
    "    for cat in set(all_cats):\n",
    "        parts = cat.split('-')\n",
    "        tags.append(parts[0])\n",
    "        if len(parts) > 1:\n",
    "            ents.append(parts[1])\n",
    "        \n",
    "    return set(tags), set(ents)"
   ]
  },
  {
   "cell_type": "code",
   "execution_count": 5,
   "metadata": {},
   "outputs": [
    {
     "name": "stdout",
     "output_type": "stream",
     "text": [
      "processing train file...\n",
      "processing validation file...\n",
      "processing testing file...\n"
     ]
    }
   ],
   "source": [
    "print('processing train file...')\n",
    "train_sents, train_all_toks, train_all_cats = read_conll('../../../resources/data/NER/finance/train.txt')\n",
    "\n",
    "print('processing validation file...')\n",
    "valid_sents, valid_all_toks, valid_all_cats = read_conll('../../../resources/data/NER/finance/valid.txt')\n",
    "\n",
    "print('processing testing file...')\n",
    "test_sents, test_all_toks, test_all_cats = read_conll('../../../resources/data/NER/finance/test.txt')"
   ]
  },
  {
   "cell_type": "code",
   "execution_count": 6,
   "metadata": {},
   "outputs": [
    {
     "name": "stdout",
     "output_type": "stream",
     "text": [
      "# training sentences:  1047\n",
      "# validation sentences:  116\n",
      "# testing sentences:  302\n"
     ]
    }
   ],
   "source": [
    "print('# training sentences: ', len(train_sents))\n",
    "print('# validation sentences: ', len(valid_sents))\n",
    "print('# testing sentences: ', len(test_sents))"
   ]
  },
  {
   "cell_type": "code",
   "execution_count": 7,
   "metadata": {},
   "outputs": [
    {
     "name": "stdout",
     "output_type": "stream",
     "text": [
      "# unique training tokens:  3406\n",
      "# unique_validation tokens:  1061\n",
      "# unique_testing tokens:  1906\n"
     ]
    }
   ],
   "source": [
    "print('# unique training tokens: ', len(set(train_all_toks)))\n",
    "print('# unique_validation tokens: ', len(set(valid_all_toks)))\n",
    "print('# unique_testing tokens: ', len(set(test_all_toks)))"
   ]
  },
  {
   "cell_type": "code",
   "execution_count": 8,
   "metadata": {},
   "outputs": [
    {
     "name": "stdout",
     "output_type": "stream",
     "text": [
      "# training categories:  8\n",
      "# validation categories:  7\n",
      "# testing categories:  8\n"
     ]
    }
   ],
   "source": [
    "print('# training categories: ', len(set(train_all_cats)))\n",
    "print('# validation categories: ', len(set(valid_all_cats)))\n",
    "print('# testing categories: ', len(set(test_all_cats)))"
   ]
  },
  {
   "cell_type": "code",
   "execution_count": 9,
   "metadata": {},
   "outputs": [
    {
     "name": "stdout",
     "output_type": "stream",
     "text": [
      "training tags, entities:  {'O', 'I', 'B'} {'MISC', 'PER', 'LOC', 'ORG'} 4\n",
      "validation tags, entities:  {'O', 'I', 'B'} {'PER', 'LOC', 'ORG'} 3\n",
      "training tags, entities:  {'O', 'I', 'B'} {'MISC', 'PER', 'LOC', 'ORG'} 4\n"
     ]
    }
   ],
   "source": [
    "train_tags, train_ents = get_tags_ents(train_all_cats)\n",
    "print('training tags, entities: ', train_tags, train_ents, len(train_ents))\n",
    "\n",
    "valid_tags, valid_ents = get_tags_ents(valid_all_cats)\n",
    "print('validation tags, entities: ', valid_tags, valid_ents, len(valid_ents))\n",
    "\n",
    "test_tags, test_ents = get_tags_ents(test_all_cats)\n",
    "print('training tags, entities: ', test_tags, test_ents, len(test_ents))"
   ]
  },
  {
   "cell_type": "code",
   "execution_count": 10,
   "metadata": {},
   "outputs": [
    {
     "name": "stdout",
     "output_type": "stream",
     "text": [
      "training distribution\n",
      "Counter({'O': 35866, 'B-PER': 674, 'B-ORG': 216, 'I-LOC': 158, 'B-LOC': 143, 'I-ORG': 125, 'I-PER': 29, 'B-MISC': 7})\n",
      "\n",
      "\n",
      "validation distribution\n",
      "Counter({'O': 3611, 'B-PER': 72, 'I-LOC': 28, 'B-LOC': 27, 'B-ORG': 24, 'I-ORG': 19, 'I-PER': 6})\n",
      "\n",
      "\n",
      "testing distribution\n",
      "Counter({'O': 12810, 'B-PER': 215, 'I-ORG': 59, 'B-ORG': 55, 'I-LOC': 41, 'B-LOC': 38, 'I-PER': 21, 'B-MISC': 7})\n",
      "\n",
      "\n"
     ]
    }
   ],
   "source": [
    "print('training distribution')\n",
    "print(Counter(train_all_cats))\n",
    "print('\\n')\n",
    "\n",
    "print('validation distribution')\n",
    "print(Counter(valid_all_cats))\n",
    "print('\\n')\n",
    "\n",
    "print('testing distribution')\n",
    "print(Counter(test_all_cats))\n",
    "print('\\n')"
   ]
  }
 ],
 "metadata": {
  "kernelspec": {
   "display_name": "Python [default]",
   "language": "python",
   "name": "python3"
  },
  "language_info": {
   "codemirror_mode": {
    "name": "ipython",
    "version": 3
   },
   "file_extension": ".py",
   "mimetype": "text/x-python",
   "name": "python",
   "nbconvert_exporter": "python",
   "pygments_lexer": "ipython3",
   "version": "3.6.4"
  }
 },
 "nbformat": 4,
 "nbformat_minor": 2
}
