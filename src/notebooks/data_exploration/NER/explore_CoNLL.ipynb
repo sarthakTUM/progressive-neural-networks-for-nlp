{
 "cells": [
  {
   "cell_type": "code",
   "execution_count": 1,
   "metadata": {},
   "outputs": [],
   "source": [
    "import numpy as np\n",
    "import pandas as pd\n",
    "import os\n",
    "import sys"
   ]
  },
  {
   "cell_type": "code",
   "execution_count": 2,
   "metadata": {},
   "outputs": [],
   "source": [
    "def read_sentences_labels(sentence_file_path, label_file_path):\n",
    "    sentences = []\n",
    "    labels = []\n",
    "    with open(sentence_file_path, 'r') as sf, open(label_file_path, 'r') as lf:\n",
    "        sent = sf.readlines()\n",
    "        lab = lf.readlines()\n",
    "        assert len(sent) == len(lab)\n",
    "        for sentence, label in zip(sent, lab):\n",
    "            sentence_split = sentence.strip().split(' ')\n",
    "            label_split = label.strip().split(' ')\n",
    "            assert len(sentence_split) == len(label_split)\n",
    "            sentences.append(sentence_split)\n",
    "            labels.append(label_split)\n",
    "        \n",
    "        assert len(sentences) == len(labels)\n",
    "        return sentences, labels"
   ]
  },
  {
   "cell_type": "code",
   "execution_count": 3,
   "metadata": {},
   "outputs": [],
   "source": [
    "sys.path.append('../../../../')"
   ]
  },
  {
   "cell_type": "code",
   "execution_count": 4,
   "metadata": {},
   "outputs": [],
   "source": [
    "data_dir = '../../../../src/ner/data/conll03_iobes_id/'"
   ]
  },
  {
   "cell_type": "code",
   "execution_count": 5,
   "metadata": {},
   "outputs": [],
   "source": [
    "train, val, test = os.path.join(data_dir, 'train'), os.path.join(data_dir, 'val'), os.path.join(data_dir, 'test')"
   ]
  },
  {
   "cell_type": "code",
   "execution_count": 6,
   "metadata": {},
   "outputs": [],
   "source": [
    "splits = [train, val, test]"
   ]
  },
  {
   "cell_type": "code",
   "execution_count": 7,
   "metadata": {},
   "outputs": [
    {
     "data": {
      "text/plain": [
       "['../../../../src/ner/data/conll03_iobes_id/train',\n",
       " '../../../../src/ner/data/conll03_iobes_id/val',\n",
       " '../../../../src/ner/data/conll03_iobes_id/test']"
      ]
     },
     "execution_count": 7,
     "metadata": {},
     "output_type": "execute_result"
    }
   ],
   "source": [
    "splits"
   ]
  },
  {
   "cell_type": "code",
   "execution_count": 8,
   "metadata": {},
   "outputs": [],
   "source": [
    "data = {}\n",
    "for split in splits:\n",
    "    data[split.split('/')[-1]] = dict()\n",
    "    sentences, labels = read_sentences_labels(os.path.join(split, 'sentences.txt'), os.path.join(split, 'labels.txt'))\n",
    "    data[split.split('/')[-1]]['sentences'] = sentences\n",
    "    data[split.split('/')[-1]]['labels'] = labels\n",
    "    data[split.split('/')[-1]]['size'] = len(sentences)"
   ]
  },
  {
   "cell_type": "code",
   "execution_count": 9,
   "metadata": {},
   "outputs": [],
   "source": [
    "all_data = dict()\n",
    "all_data['sentences'] = [item for sublist in [data[split]['sentences'] for split in data] for item in sublist]\n",
    "all_data['labels'] = [item for sublist in [data[split]['labels'] for split in data] for item in sublist]"
   ]
  },
  {
   "cell_type": "code",
   "execution_count": 10,
   "metadata": {},
   "outputs": [
    {
     "data": {
      "text/plain": [
       "{'LOC', 'MISC', 'O', 'ORG', 'PER'}"
      ]
     },
     "execution_count": 10,
     "metadata": {},
     "output_type": "execute_result"
    }
   ],
   "source": [
    "# different entity types\n",
    "unique_entities_iobes = list(set([item for sublist in all_data['labels'] for item in sublist]))\n",
    "unique_entities = set([entity.split('-')[-1] for entity in unique_entities_iobes])\n",
    "unique_entities"
   ]
  },
  {
   "cell_type": "code",
   "execution_count": 11,
   "metadata": {},
   "outputs": [
    {
     "data": {
      "text/plain": [
       "Counter({'LOC': 12316, 'MISC': 6779, 'O': 250660, 'ORG': 14613, 'PER': 17050})"
      ]
     },
     "execution_count": 11,
     "metadata": {},
     "output_type": "execute_result"
    }
   ],
   "source": [
    "# distributions in whole dataset\n",
    "from collections import Counter\n",
    "all_entities_iobes = [item for sublist in all_data['labels'] for item in sublist]\n",
    "all_entities = [entity.split('-')[-1] for entity in all_entities_iobes]\n",
    "counter = Counter(all_entities)\n",
    "counter"
   ]
  },
  {
   "cell_type": "code",
   "execution_count": 12,
   "metadata": {},
   "outputs": [
    {
     "data": {
      "text/plain": [
       "20744"
      ]
     },
     "execution_count": 12,
     "metadata": {},
     "output_type": "execute_result"
    }
   ],
   "source": [
    "# size of the whole dataset\n",
    "num_sentences = 0\n",
    "for split in data:\n",
    "    num_sentences += data[split]['size']\n",
    "num_sentences"
   ]
  },
  {
   "cell_type": "code",
   "execution_count": 13,
   "metadata": {},
   "outputs": [
    {
     "data": {
      "text/plain": [
       "30289"
      ]
     },
     "execution_count": 13,
     "metadata": {},
     "output_type": "execute_result"
    }
   ],
   "source": [
    "# num_tokens unique\n",
    "all_tokens = [item for sublist in all_data['sentences'] for item in sublist]\n",
    "unique_tokens = set(all_tokens)\n",
    "len(unique_tokens)"
   ]
  },
  {
   "cell_type": "code",
   "execution_count": 14,
   "metadata": {},
   "outputs": [
    {
     "data": {
      "text/plain": [
       "301418"
      ]
     },
     "execution_count": 14,
     "metadata": {},
     "output_type": "execute_result"
    }
   ],
   "source": [
    "# num_tokens total\n",
    "all_tokens = [item for sublist in all_data['sentences'] for item in sublist]\n",
    "len(all_tokens)"
   ]
  },
  {
   "cell_type": "code",
   "execution_count": 15,
   "metadata": {},
   "outputs": [
    {
     "data": {
      "text/plain": [
       "50758"
      ]
     },
     "execution_count": 15,
     "metadata": {},
     "output_type": "execute_result"
    }
   ],
   "source": [
    "# num_annotations total\n",
    "all_annotations = [item for sublist in all_data['labels'] for item in sublist]\n",
    "all_annotations = [ann for ann in all_annotations if ann is not 'O']\n",
    "len(all_annotations)"
   ]
  },
  {
   "cell_type": "code",
   "execution_count": 16,
   "metadata": {},
   "outputs": [
    {
     "data": {
      "text/plain": [
       "10943"
      ]
     },
     "execution_count": 16,
     "metadata": {},
     "output_type": "execute_result"
    }
   ],
   "source": [
    "# num_annotations unique\n",
    "unique_annotations = []\n",
    "for sentence, label in zip(all_data['sentences'], all_data['labels']):\n",
    "    indices = [i for i, x in enumerate(label) if x != 'O']\n",
    "    unique_annotations.extend([sentence[i] for i in indices])\n",
    "len(set(unique_annotations))"
   ]
  },
  {
   "cell_type": "code",
   "execution_count": 17,
   "metadata": {},
   "outputs": [
    {
     "name": "stdout",
     "output_type": "stream",
     "text": [
      "train:14041\n",
      "val:3250\n",
      "test:3453\n"
     ]
    }
   ],
   "source": [
    "# Train-Val-Test split, distribution in terms of sentences\n",
    "for split in data:\n",
    "    print('{}:{}'.format(split, data[split]['size']))"
   ]
  },
  {
   "cell_type": "code",
   "execution_count": 18,
   "metadata": {},
   "outputs": [
    {
     "name": "stdout",
     "output_type": "stream",
     "text": [
      "train:23623\n",
      "val:9966\n",
      "test:9488\n"
     ]
    }
   ],
   "source": [
    "# Train-Val-Test split, distribution in terms of tokens\n",
    "for split in data:\n",
    "    print('{}:{}'.format(split, len(set([item for sublist in data[split]['sentences'] for item in sublist]))))"
   ]
  },
  {
   "cell_type": "code",
   "execution_count": 78,
   "metadata": {},
   "outputs": [],
   "source": [
    "# Train-Val-Test split, distribution in terms of entities\n",
    "from collections import Counter\n",
    "for split in data:\n",
    "    split_entities_iobes = [item for sublist in data[split]['labels'] for item in sublist]\n",
    "    split_entities = [entity.split('-')[-1] for entity in split_entities_iobes]\n",
    "    counter = Counter(split_entities)\n",
    "    data[split]['entity_distribution'] = counter"
   ]
  },
  {
   "cell_type": "code",
   "execution_count": null,
   "metadata": {},
   "outputs": [],
   "source": []
  }
 ],
 "metadata": {
  "kernelspec": {
   "display_name": "Python [default]",
   "language": "python",
   "name": "python3"
  },
  "language_info": {
   "codemirror_mode": {
    "name": "ipython",
    "version": 3
   },
   "file_extension": ".py",
   "mimetype": "text/x-python",
   "name": "python",
   "nbconvert_exporter": "python",
   "pygments_lexer": "ipython3",
   "version": "3.6.4"
  }
 },
 "nbformat": 4,
 "nbformat_minor": 2
}
